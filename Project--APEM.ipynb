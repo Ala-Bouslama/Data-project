{
 "cells": [
  {
   "cell_type": "markdown",
   "metadata": {},
   "source": [
    "# <img src = 'https://www.apem.com/fr/img/apem-fr-logo-15076474841.jpg' style= 'width:425px;height:300px'/>    \n",
    "# <img src = 'https://s3-eu-west-1.amazonaws.com/assets.atout-on-line.com/images/commerce/2013/FichesEcoles/tbs-logo-200.jpeg' style= 'width:425px;height:300px'/>\n",
    "<h2> APEM BECOMES DATA DRIVEN PROJECT  </h2>  \n",
    "\n"
   ]
  },
  {
   "cell_type": "markdown",
   "metadata": {},
   "source": [
    "<h2>Ala BOUSLAMA </h2>  \n",
    "\n"
   ]
  },
  {
   "cell_type": "code",
   "execution_count": 291,
   "metadata": {},
   "outputs": [],
   "source": [
    "#Import libraries\n",
    "import pandas as pd \n",
    "import numpy as np \n",
    "import seaborn as sb\n",
    "from matplotlib import pyplot as plt\n",
    "import os"
   ]
  },
  {
   "cell_type": "code",
   "execution_count": 293,
   "metadata": {},
   "outputs": [],
   "source": [
    "#Read data\n",
    "data = pd.read_excel('DATABASE XLS EXTRACT BASIC V2update - TRAIN.xlsx', sheet_name =\"Extraction AX\")\n"
   ]
  },
  {
   "cell_type": "markdown",
   "metadata": {},
   "source": [
    "# Data Overview"
   ]
  },
  {
   "cell_type": "code",
   "execution_count": 294,
   "metadata": {
    "scrolled": true
   },
   "outputs": [
    {
     "data": {
      "text/html": [
       "<div>\n",
       "<style scoped>\n",
       "    .dataframe tbody tr th:only-of-type {\n",
       "        vertical-align: middle;\n",
       "    }\n",
       "\n",
       "    .dataframe tbody tr th {\n",
       "        vertical-align: top;\n",
       "    }\n",
       "\n",
       "    .dataframe thead th {\n",
       "        text-align: right;\n",
       "    }\n",
       "</style>\n",
       "<table border=\"1\" class=\"dataframe\">\n",
       "  <thead>\n",
       "    <tr style=\"text-align: right;\">\n",
       "      <th></th>\n",
       "      <th>OpportunityId</th>\n",
       "      <th>Status</th>\n",
       "      <th>Name</th>\n",
       "      <th>Subject</th>\n",
       "      <th>Country</th>\n",
       "      <th>SalesUnitId</th>\n",
       "      <th>ADUCategory</th>\n",
       "      <th>Product_Family</th>\n",
       "      <th>Application</th>\n",
       "      <th>Owner</th>\n",
       "      <th>...</th>\n",
       "      <th>OPENEDDATE</th>\n",
       "      <th>Opportunity_Number</th>\n",
       "      <th>PROGNOSISDAYS</th>\n",
       "      <th>DATAAREAID</th>\n",
       "      <th>BUSRELSEGMENT</th>\n",
       "      <th>CUSTSEGMENTID</th>\n",
       "      <th>CUSTSUBSEGMENTID</th>\n",
       "      <th>BUSRELSUBSEGMENTID</th>\n",
       "      <th>PrefixUK</th>\n",
       "      <th>ESTIMATEDREVENUE</th>\n",
       "    </tr>\n",
       "  </thead>\n",
       "  <tbody>\n",
       "    <tr>\n",
       "      <th>0</th>\n",
       "      <td>OP-000081</td>\n",
       "      <td>Lost</td>\n",
       "      <td>CROUZET AUTOMATISMES SAS</td>\n",
       "      <td>Crouzet 12147-6X778-09, 12167-6X778-09</td>\n",
       "      <td>France</td>\n",
       "      <td>SUD_EST</td>\n",
       "      <td>1-SWITCH</td>\n",
       "      <td>1-SWITCH</td>\n",
       "      <td>.</td>\n",
       "      <td>Sales Person 1</td>\n",
       "      <td>...</td>\n",
       "      <td>1900-01-01</td>\n",
       "      <td>OP-000081</td>\n",
       "      <td>180.0</td>\n",
       "      <td>fr02</td>\n",
       "      <td>NaN</td>\n",
       "      <td>Vehicles</td>\n",
       "      <td>NaN</td>\n",
       "      <td>NaN</td>\n",
       "      <td></td>\n",
       "      <td>3144.0</td>\n",
       "    </tr>\n",
       "    <tr>\n",
       "      <th>1</th>\n",
       "      <td>OP-000121</td>\n",
       "      <td>Lost</td>\n",
       "      <td>SYSTEMES ATTUM</td>\n",
       "      <td>FR - Balance pesage peinture Membrane</td>\n",
       "      <td>France</td>\n",
       "      <td>CENTRE_IDF_1/2_EST</td>\n",
       "      <td>1-SWITCH</td>\n",
       "      <td>1-SWITCH</td>\n",
       "      <td>.</td>\n",
       "      <td>Sales Person 2</td>\n",
       "      <td>...</td>\n",
       "      <td>1900-01-01</td>\n",
       "      <td>OP-000121</td>\n",
       "      <td>180.0</td>\n",
       "      <td>fr02</td>\n",
       "      <td>NaN</td>\n",
       "      <td>Inst. Cons. Comp</td>\n",
       "      <td>NaN</td>\n",
       "      <td>NaN</td>\n",
       "      <td></td>\n",
       "      <td>117500.0</td>\n",
       "    </tr>\n",
       "    <tr>\n",
       "      <th>2</th>\n",
       "      <td>OP-000122</td>\n",
       "      <td>Won</td>\n",
       "      <td>SCHNEIDER ELECTRIC</td>\n",
       "      <td>MEC // TELEGESTION RESEAU ELECTRIQUE</td>\n",
       "      <td>France</td>\n",
       "      <td>SUD_EST</td>\n",
       "      <td>NaN</td>\n",
       "      <td>NaN</td>\n",
       "      <td>.</td>\n",
       "      <td>Sales Person 1</td>\n",
       "      <td>...</td>\n",
       "      <td>1900-01-01</td>\n",
       "      <td>OP-000122</td>\n",
       "      <td>180.0</td>\n",
       "      <td>fr02</td>\n",
       "      <td>NaN</td>\n",
       "      <td>Ind. Automation</td>\n",
       "      <td>NaN</td>\n",
       "      <td>NaN</td>\n",
       "      <td></td>\n",
       "      <td>12000.0</td>\n",
       "    </tr>\n",
       "    <tr>\n",
       "      <th>3</th>\n",
       "      <td>OP-000123</td>\n",
       "      <td>Lost</td>\n",
       "      <td>OMEGA FUSIBILI S.P.A.</td>\n",
       "      <td>IT - POWER ONE - 3500</td>\n",
       "      <td>Italie</td>\n",
       "      <td>EXPORT3</td>\n",
       "      <td>1-SWITCH</td>\n",
       "      <td>1-SWITCH</td>\n",
       "      <td>.</td>\n",
       "      <td>Sales Person 3</td>\n",
       "      <td>...</td>\n",
       "      <td>1900-01-01</td>\n",
       "      <td>OP-000123</td>\n",
       "      <td>180.0</td>\n",
       "      <td>fr02</td>\n",
       "      <td>NaN</td>\n",
       "      <td>Indirect Sales</td>\n",
       "      <td>NaN</td>\n",
       "      <td>NaN</td>\n",
       "      <td></td>\n",
       "      <td>8160.0</td>\n",
       "    </tr>\n",
       "    <tr>\n",
       "      <th>4</th>\n",
       "      <td>OP-000124</td>\n",
       "      <td>Won</td>\n",
       "      <td>ERMEC SL</td>\n",
       "      <td>SP - NAD/SHAD- FP</td>\n",
       "      <td>Espagne</td>\n",
       "      <td>EXPORT1</td>\n",
       "      <td>NaN</td>\n",
       "      <td>NaN</td>\n",
       "      <td>.</td>\n",
       "      <td>Sales Person 4</td>\n",
       "      <td>...</td>\n",
       "      <td>1900-01-01</td>\n",
       "      <td>OP-000124</td>\n",
       "      <td>180.0</td>\n",
       "      <td>fr02</td>\n",
       "      <td>NaN</td>\n",
       "      <td>Indirect Sales</td>\n",
       "      <td>NaN</td>\n",
       "      <td>NaN</td>\n",
       "      <td></td>\n",
       "      <td>120461.0</td>\n",
       "    </tr>\n",
       "  </tbody>\n",
       "</table>\n",
       "<p>5 rows × 42 columns</p>\n",
       "</div>"
      ],
      "text/plain": [
       "  OpportunityId Status                      Name  \\\n",
       "0     OP-000081   Lost  CROUZET AUTOMATISMES SAS   \n",
       "1     OP-000121   Lost            SYSTEMES ATTUM   \n",
       "2     OP-000122    Won        SCHNEIDER ELECTRIC   \n",
       "3     OP-000123   Lost     OMEGA FUSIBILI S.P.A.   \n",
       "4     OP-000124    Won                  ERMEC SL   \n",
       "\n",
       "                                  Subject  Country         SalesUnitId  \\\n",
       "0  Crouzet 12147-6X778-09, 12167-6X778-09   France             SUD_EST   \n",
       "1   FR - Balance pesage peinture Membrane   France  CENTRE_IDF_1/2_EST   \n",
       "2    MEC // TELEGESTION RESEAU ELECTRIQUE   France             SUD_EST   \n",
       "3                   IT - POWER ONE - 3500   Italie             EXPORT3   \n",
       "4                       SP - NAD/SHAD- FP  Espagne             EXPORT1   \n",
       "\n",
       "  ADUCategory Product_Family Application           Owner  ...  OPENEDDATE  \\\n",
       "0    1-SWITCH       1-SWITCH           .  Sales Person 1  ...  1900-01-01   \n",
       "1    1-SWITCH       1-SWITCH           .  Sales Person 2  ...  1900-01-01   \n",
       "2         NaN            NaN           .  Sales Person 1  ...  1900-01-01   \n",
       "3    1-SWITCH       1-SWITCH           .  Sales Person 3  ...  1900-01-01   \n",
       "4         NaN            NaN           .  Sales Person 4  ...  1900-01-01   \n",
       "\n",
       "  Opportunity_Number PROGNOSISDAYS  DATAAREAID BUSRELSEGMENT  \\\n",
       "0          OP-000081         180.0        fr02           NaN   \n",
       "1          OP-000121         180.0        fr02           NaN   \n",
       "2          OP-000122         180.0        fr02           NaN   \n",
       "3          OP-000123         180.0        fr02           NaN   \n",
       "4          OP-000124         180.0        fr02           NaN   \n",
       "\n",
       "      CUSTSEGMENTID CUSTSUBSEGMENTID BUSRELSUBSEGMENTID PrefixUK  \\\n",
       "0          Vehicles              NaN                NaN            \n",
       "1  Inst. Cons. Comp              NaN                NaN            \n",
       "2   Ind. Automation              NaN                NaN            \n",
       "3    Indirect Sales              NaN                NaN            \n",
       "4    Indirect Sales              NaN                NaN            \n",
       "\n",
       "  ESTIMATEDREVENUE  \n",
       "0           3144.0  \n",
       "1         117500.0  \n",
       "2          12000.0  \n",
       "3           8160.0  \n",
       "4         120461.0  \n",
       "\n",
       "[5 rows x 42 columns]"
      ]
     },
     "execution_count": 294,
     "metadata": {},
     "output_type": "execute_result"
    }
   ],
   "source": [
    "data.head()"
   ]
  },
  {
   "cell_type": "code",
   "execution_count": 295,
   "metadata": {},
   "outputs": [
    {
     "name": "stdout",
     "output_type": "stream",
     "text": [
      "\n",
      "Features : \n",
      " ['OpportunityId', 'Status', 'Name', 'Subject', 'Country', 'SalesUnitId', 'ADUCategory', 'Product_Family', 'Application', 'Owner', 'Estimated Revenu', 'Prognosis', 'PrognosisDate', 'ProbabilityId', 'ProcessName', 'ADUOpportunityType', 'SegmentId', 'SubsegmentId', 'ADUSegmentId', 'ADUSubSegmentId', 'ADUEndCustomer', 'ADUBasicPartNumber', 'ADULifeOfProject', 'ADUEstimatedPriceEndCustomer', 'ADUPiecePotential', 'annualTotal', 'ADUCommentsRequest', 'ADUCommentsPMLocalValidation', 'AduLevelOfComplexity', 'ADUStrategicCustomer', 'AduPriorityMarket', 'Date_Created', 'OPENEDDATE', 'Opportunity_Number', 'PROGNOSISDAYS', 'DATAAREAID', 'BUSRELSEGMENT', 'CUSTSEGMENTID', 'CUSTSUBSEGMENTID', 'BUSRELSUBSEGMENTID', 'PrefixUK', 'ESTIMATEDREVENUE']\n"
     ]
    }
   ],
   "source": [
    "# List of columns\n",
    "print (\"\\nFeatures : \\n\" ,data.columns.tolist())\n"
   ]
  },
  {
   "cell_type": "code",
   "execution_count": 296,
   "metadata": {},
   "outputs": [
    {
     "name": "stdout",
     "output_type": "stream",
     "text": [
      "<class 'pandas.core.frame.DataFrame'>\n",
      "RangeIndex: 12222 entries, 0 to 12221\n",
      "Data columns (total 42 columns):\n",
      " #   Column                        Non-Null Count  Dtype         \n",
      "---  ------                        --------------  -----         \n",
      " 0   OpportunityId                 11779 non-null  object        \n",
      " 1   Status                        11779 non-null  object        \n",
      " 2   Name                          11779 non-null  object        \n",
      " 3   Subject                       11779 non-null  object        \n",
      " 4   Country                       11779 non-null  object        \n",
      " 5   SalesUnitId                   8269 non-null   object        \n",
      " 6   ADUCategory                   6848 non-null   object        \n",
      " 7   Product_Family                6831 non-null   object        \n",
      " 8   Application                   11769 non-null  object        \n",
      " 9   Owner                         11027 non-null  object        \n",
      " 10  Estimated Revenu              11779 non-null  float64       \n",
      " 11  Prognosis                     8096 non-null   object        \n",
      " 12  PrognosisDate                 7760 non-null   datetime64[ns]\n",
      " 13  ProbabilityId                 11779 non-null  float64       \n",
      " 14  ProcessName                   7954 non-null   object        \n",
      " 15  ADUOpportunityType            11779 non-null  object        \n",
      " 16  SegmentId                     6639 non-null   object        \n",
      " 17  SubsegmentId                  346 non-null    object        \n",
      " 18  ADUSegmentId                  8776 non-null   object        \n",
      " 19  ADUSubSegmentId               1158 non-null   object        \n",
      " 20  ADUEndCustomer                2691 non-null   object        \n",
      " 21  ADUBasicPartNumber            4348 non-null   object        \n",
      " 22  ADULifeOfProject              11779 non-null  float64       \n",
      " 23  ADUEstimatedPriceEndCustomer  11779 non-null  float64       \n",
      " 24  ADUPiecePotential             11779 non-null  float64       \n",
      " 25  annualTotal                   11779 non-null  float64       \n",
      " 26  ADUCommentsRequest            4808 non-null   object        \n",
      " 27  ADUCommentsPMLocalValidation  915 non-null    object        \n",
      " 28  AduLevelOfComplexity          4195 non-null   object        \n",
      " 29  ADUStrategicCustomer          11779 non-null  object        \n",
      " 30  AduPriorityMarket             11779 non-null  object        \n",
      " 31  Date_Created                  11779 non-null  datetime64[ns]\n",
      " 32  OPENEDDATE                    11779 non-null  datetime64[ns]\n",
      " 33  Opportunity_Number            11779 non-null  object        \n",
      " 34  PROGNOSISDAYS                 7760 non-null   float64       \n",
      " 35  DATAAREAID                    11779 non-null  object        \n",
      " 36  BUSRELSEGMENT                 2025 non-null   object        \n",
      " 37  CUSTSEGMENTID                 6639 non-null   object        \n",
      " 38  CUSTSUBSEGMENTID              0 non-null      float64       \n",
      " 39  BUSRELSUBSEGMENTID            346 non-null    object        \n",
      " 40  PrefixUK                      11779 non-null  object        \n",
      " 41  ESTIMATEDREVENUE              11779 non-null  float64       \n",
      "dtypes: datetime64[ns](3), float64(9), object(30)\n",
      "memory usage: 3.9+ MB\n"
     ]
    }
   ],
   "source": [
    "data.info()"
   ]
  },
  {
   "cell_type": "code",
   "execution_count": 297,
   "metadata": {},
   "outputs": [
    {
     "name": "stdout",
     "output_type": "stream",
     "text": [
      "Our data set has 42 Colonnes,and 12222 lignes \n",
      "\n",
      "Standart Missing values :   158544\n"
     ]
    }
   ],
   "source": [
    "print('Our data set has {} Colonnes,and {} lignes '.format(data.columns.value_counts().count(),data.index.value_counts().count()))\n",
    "print (\"\\nStandart Missing values :  \", data.isnull().sum().values.sum())# on a just check les missing value standard\n"
   ]
  },
  {
   "cell_type": "markdown",
   "metadata": {},
   "source": [
    "<b> Number of null values per column and percentages ( Next code )"
   ]
  },
  {
   "cell_type": "code",
   "execution_count": 298,
   "metadata": {},
   "outputs": [
    {
     "data": {
      "text/plain": [
       "CUSTSUBSEGMENTID                12222\n",
       "BUSRELSUBSEGMENTID              11876\n",
       "SubsegmentId                    11876\n",
       "ADUCommentsPMLocalValidation    11307\n",
       "ADUSubSegmentId                 11064\n",
       "BUSRELSEGMENT                   10197\n",
       "ADUEndCustomer                   9531\n",
       "AduLevelOfComplexity             8027\n",
       "ADUBasicPartNumber               7874\n",
       "ADUCommentsRequest               7414\n",
       "SegmentId                        5583\n",
       "CUSTSEGMENTID                    5583\n",
       "Product_Family                   5391\n",
       "ADUCategory                      5374\n",
       "PROGNOSISDAYS                    4462\n",
       "PrognosisDate                    4462\n",
       "ProcessName                      4268\n",
       "Prognosis                        4126\n",
       "SalesUnitId                      3953\n",
       "ADUSegmentId                     3446\n",
       "Owner                            1195\n",
       "Application                       453\n",
       "Name                              443\n",
       "Estimated Revenu                  443\n",
       "ProbabilityId                     443\n",
       "Status                            443\n",
       "Country                           443\n",
       "Subject                           443\n",
       "ESTIMATEDREVENUE                  443\n",
       "ADUOpportunityType                443\n",
       "PrefixUK                          443\n",
       "ADULifeOfProject                  443\n",
       "ADUEstimatedPriceEndCustomer      443\n",
       "ADUPiecePotential                 443\n",
       "annualTotal                       443\n",
       "ADUStrategicCustomer              443\n",
       "AduPriorityMarket                 443\n",
       "Date_Created                      443\n",
       "OPENEDDATE                        443\n",
       "Opportunity_Number                443\n",
       "DATAAREAID                        443\n",
       "OpportunityId                     443\n",
       "dtype: int64"
      ]
     },
     "execution_count": 298,
     "metadata": {},
     "output_type": "execute_result"
    }
   ],
   "source": [
    "data.isnull().sum().sort_values(ascending = False)"
   ]
  },
  {
   "cell_type": "code",
   "execution_count": 299,
   "metadata": {},
   "outputs": [
    {
     "data": {
      "text/html": [
       "<div>\n",
       "<style scoped>\n",
       "    .dataframe tbody tr th:only-of-type {\n",
       "        vertical-align: middle;\n",
       "    }\n",
       "\n",
       "    .dataframe tbody tr th {\n",
       "        vertical-align: top;\n",
       "    }\n",
       "\n",
       "    .dataframe thead th {\n",
       "        text-align: right;\n",
       "    }\n",
       "</style>\n",
       "<table border=\"1\" class=\"dataframe\">\n",
       "  <thead>\n",
       "    <tr style=\"text-align: right;\">\n",
       "      <th></th>\n",
       "      <th>Total_missing</th>\n",
       "      <th>Percent</th>\n",
       "    </tr>\n",
       "  </thead>\n",
       "  <tbody>\n",
       "    <tr>\n",
       "      <th>CUSTSUBSEGMENTID</th>\n",
       "      <td>12222</td>\n",
       "      <td>1.000000</td>\n",
       "    </tr>\n",
       "    <tr>\n",
       "      <th>BUSRELSUBSEGMENTID</th>\n",
       "      <td>11876</td>\n",
       "      <td>0.971690</td>\n",
       "    </tr>\n",
       "    <tr>\n",
       "      <th>SubsegmentId</th>\n",
       "      <td>11876</td>\n",
       "      <td>0.971690</td>\n",
       "    </tr>\n",
       "    <tr>\n",
       "      <th>ADUCommentsPMLocalValidation</th>\n",
       "      <td>11307</td>\n",
       "      <td>0.925135</td>\n",
       "    </tr>\n",
       "    <tr>\n",
       "      <th>ADUSubSegmentId</th>\n",
       "      <td>11064</td>\n",
       "      <td>0.905253</td>\n",
       "    </tr>\n",
       "    <tr>\n",
       "      <th>BUSRELSEGMENT</th>\n",
       "      <td>10197</td>\n",
       "      <td>0.834315</td>\n",
       "    </tr>\n",
       "    <tr>\n",
       "      <th>ADUEndCustomer</th>\n",
       "      <td>9531</td>\n",
       "      <td>0.779823</td>\n",
       "    </tr>\n",
       "    <tr>\n",
       "      <th>AduLevelOfComplexity</th>\n",
       "      <td>8027</td>\n",
       "      <td>0.656766</td>\n",
       "    </tr>\n",
       "    <tr>\n",
       "      <th>ADUBasicPartNumber</th>\n",
       "      <td>7874</td>\n",
       "      <td>0.644248</td>\n",
       "    </tr>\n",
       "    <tr>\n",
       "      <th>PrefixUK</th>\n",
       "      <td>7695</td>\n",
       "      <td>0.629602</td>\n",
       "    </tr>\n",
       "    <tr>\n",
       "      <th>ADUCommentsRequest</th>\n",
       "      <td>7414</td>\n",
       "      <td>0.606611</td>\n",
       "    </tr>\n",
       "    <tr>\n",
       "      <th>SegmentId</th>\n",
       "      <td>5583</td>\n",
       "      <td>0.456799</td>\n",
       "    </tr>\n",
       "    <tr>\n",
       "      <th>CUSTSEGMENTID</th>\n",
       "      <td>5583</td>\n",
       "      <td>0.456799</td>\n",
       "    </tr>\n",
       "    <tr>\n",
       "      <th>Product_Family</th>\n",
       "      <td>5391</td>\n",
       "      <td>0.441090</td>\n",
       "    </tr>\n",
       "    <tr>\n",
       "      <th>ADUCategory</th>\n",
       "      <td>5374</td>\n",
       "      <td>0.439699</td>\n",
       "    </tr>\n",
       "    <tr>\n",
       "      <th>PROGNOSISDAYS</th>\n",
       "      <td>4462</td>\n",
       "      <td>0.365079</td>\n",
       "    </tr>\n",
       "    <tr>\n",
       "      <th>PrognosisDate</th>\n",
       "      <td>4462</td>\n",
       "      <td>0.365079</td>\n",
       "    </tr>\n",
       "    <tr>\n",
       "      <th>ProcessName</th>\n",
       "      <td>4268</td>\n",
       "      <td>0.349206</td>\n",
       "    </tr>\n",
       "    <tr>\n",
       "      <th>Prognosis</th>\n",
       "      <td>4126</td>\n",
       "      <td>0.337588</td>\n",
       "    </tr>\n",
       "    <tr>\n",
       "      <th>SalesUnitId</th>\n",
       "      <td>3953</td>\n",
       "      <td>0.323433</td>\n",
       "    </tr>\n",
       "    <tr>\n",
       "      <th>ADUSegmentId</th>\n",
       "      <td>3446</td>\n",
       "      <td>0.281951</td>\n",
       "    </tr>\n",
       "    <tr>\n",
       "      <th>Owner</th>\n",
       "      <td>1195</td>\n",
       "      <td>0.097775</td>\n",
       "    </tr>\n",
       "    <tr>\n",
       "      <th>Application</th>\n",
       "      <td>453</td>\n",
       "      <td>0.037064</td>\n",
       "    </tr>\n",
       "    <tr>\n",
       "      <th>Estimated Revenu</th>\n",
       "      <td>443</td>\n",
       "      <td>0.036246</td>\n",
       "    </tr>\n",
       "    <tr>\n",
       "      <th>Name</th>\n",
       "      <td>443</td>\n",
       "      <td>0.036246</td>\n",
       "    </tr>\n",
       "    <tr>\n",
       "      <th>Status</th>\n",
       "      <td>443</td>\n",
       "      <td>0.036246</td>\n",
       "    </tr>\n",
       "    <tr>\n",
       "      <th>Country</th>\n",
       "      <td>443</td>\n",
       "      <td>0.036246</td>\n",
       "    </tr>\n",
       "    <tr>\n",
       "      <th>Subject</th>\n",
       "      <td>443</td>\n",
       "      <td>0.036246</td>\n",
       "    </tr>\n",
       "    <tr>\n",
       "      <th>ESTIMATEDREVENUE</th>\n",
       "      <td>443</td>\n",
       "      <td>0.036246</td>\n",
       "    </tr>\n",
       "    <tr>\n",
       "      <th>ProbabilityId</th>\n",
       "      <td>443</td>\n",
       "      <td>0.036246</td>\n",
       "    </tr>\n",
       "    <tr>\n",
       "      <th>ADUOpportunityType</th>\n",
       "      <td>443</td>\n",
       "      <td>0.036246</td>\n",
       "    </tr>\n",
       "    <tr>\n",
       "      <th>ADULifeOfProject</th>\n",
       "      <td>443</td>\n",
       "      <td>0.036246</td>\n",
       "    </tr>\n",
       "    <tr>\n",
       "      <th>ADUEstimatedPriceEndCustomer</th>\n",
       "      <td>443</td>\n",
       "      <td>0.036246</td>\n",
       "    </tr>\n",
       "    <tr>\n",
       "      <th>ADUPiecePotential</th>\n",
       "      <td>443</td>\n",
       "      <td>0.036246</td>\n",
       "    </tr>\n",
       "    <tr>\n",
       "      <th>annualTotal</th>\n",
       "      <td>443</td>\n",
       "      <td>0.036246</td>\n",
       "    </tr>\n",
       "    <tr>\n",
       "      <th>ADUStrategicCustomer</th>\n",
       "      <td>443</td>\n",
       "      <td>0.036246</td>\n",
       "    </tr>\n",
       "    <tr>\n",
       "      <th>AduPriorityMarket</th>\n",
       "      <td>443</td>\n",
       "      <td>0.036246</td>\n",
       "    </tr>\n",
       "    <tr>\n",
       "      <th>Date_Created</th>\n",
       "      <td>443</td>\n",
       "      <td>0.036246</td>\n",
       "    </tr>\n",
       "    <tr>\n",
       "      <th>OPENEDDATE</th>\n",
       "      <td>443</td>\n",
       "      <td>0.036246</td>\n",
       "    </tr>\n",
       "    <tr>\n",
       "      <th>Opportunity_Number</th>\n",
       "      <td>443</td>\n",
       "      <td>0.036246</td>\n",
       "    </tr>\n",
       "    <tr>\n",
       "      <th>DATAAREAID</th>\n",
       "      <td>443</td>\n",
       "      <td>0.036246</td>\n",
       "    </tr>\n",
       "    <tr>\n",
       "      <th>OpportunityId</th>\n",
       "      <td>443</td>\n",
       "      <td>0.036246</td>\n",
       "    </tr>\n",
       "  </tbody>\n",
       "</table>\n",
       "</div>"
      ],
      "text/plain": [
       "                              Total_missing   Percent\n",
       "CUSTSUBSEGMENTID                      12222  1.000000\n",
       "BUSRELSUBSEGMENTID                    11876  0.971690\n",
       "SubsegmentId                          11876  0.971690\n",
       "ADUCommentsPMLocalValidation          11307  0.925135\n",
       "ADUSubSegmentId                       11064  0.905253\n",
       "BUSRELSEGMENT                         10197  0.834315\n",
       "ADUEndCustomer                         9531  0.779823\n",
       "AduLevelOfComplexity                   8027  0.656766\n",
       "ADUBasicPartNumber                     7874  0.644248\n",
       "PrefixUK                               7695  0.629602\n",
       "ADUCommentsRequest                     7414  0.606611\n",
       "SegmentId                              5583  0.456799\n",
       "CUSTSEGMENTID                          5583  0.456799\n",
       "Product_Family                         5391  0.441090\n",
       "ADUCategory                            5374  0.439699\n",
       "PROGNOSISDAYS                          4462  0.365079\n",
       "PrognosisDate                          4462  0.365079\n",
       "ProcessName                            4268  0.349206\n",
       "Prognosis                              4126  0.337588\n",
       "SalesUnitId                            3953  0.323433\n",
       "ADUSegmentId                           3446  0.281951\n",
       "Owner                                  1195  0.097775\n",
       "Application                             453  0.037064\n",
       "Estimated Revenu                        443  0.036246\n",
       "Name                                    443  0.036246\n",
       "Status                                  443  0.036246\n",
       "Country                                 443  0.036246\n",
       "Subject                                 443  0.036246\n",
       "ESTIMATEDREVENUE                        443  0.036246\n",
       "ProbabilityId                           443  0.036246\n",
       "ADUOpportunityType                      443  0.036246\n",
       "ADULifeOfProject                        443  0.036246\n",
       "ADUEstimatedPriceEndCustomer            443  0.036246\n",
       "ADUPiecePotential                       443  0.036246\n",
       "annualTotal                             443  0.036246\n",
       "ADUStrategicCustomer                    443  0.036246\n",
       "AduPriorityMarket                       443  0.036246\n",
       "Date_Created                            443  0.036246\n",
       "OPENEDDATE                              443  0.036246\n",
       "Opportunity_Number                      443  0.036246\n",
       "DATAAREAID                              443  0.036246\n",
       "OpportunityId                           443  0.036246"
      ]
     },
     "execution_count": 299,
     "metadata": {},
     "output_type": "execute_result"
    }
   ],
   "source": [
    "missing_values_non_standard = [\"n/a\", \"na\", \" \"]\n",
    "df = pd.read_excel('DATABASE XLS EXTRACT BASIC V2update - TRAIN.xlsx', sheet_name =\"Extraction AX\",na_values=missing_values_non_standard)# regardons leurs pourcentage dans notre data set \n",
    "total_missing_non_standard=df.isnull().sum().sort_values(ascending=False)\n",
    "percent_non_standard = (df.isnull().sum()/df.isnull().count()).sort_values(ascending=False)\n",
    "missing_values_non_standard = pd.concat([total_missing_non_standard, percent_non_standard], axis=1, keys=['Total_missing', 'Percent'])\n",
    "missing_values_non_standard"
   ]
  },
  {
   "cell_type": "markdown",
   "metadata": {},
   "source": [
    "<b> Correlation between the variables"
   ]
  },
  {
   "cell_type": "code",
   "execution_count": 300,
   "metadata": {},
   "outputs": [
    {
     "data": {
      "text/html": [
       "<div>\n",
       "<style scoped>\n",
       "    .dataframe tbody tr th:only-of-type {\n",
       "        vertical-align: middle;\n",
       "    }\n",
       "\n",
       "    .dataframe tbody tr th {\n",
       "        vertical-align: top;\n",
       "    }\n",
       "\n",
       "    .dataframe thead th {\n",
       "        text-align: right;\n",
       "    }\n",
       "</style>\n",
       "<table border=\"1\" class=\"dataframe\">\n",
       "  <thead>\n",
       "    <tr style=\"text-align: right;\">\n",
       "      <th></th>\n",
       "      <th>Estimated Revenu</th>\n",
       "      <th>ProbabilityId</th>\n",
       "      <th>ADULifeOfProject</th>\n",
       "      <th>ADUEstimatedPriceEndCustomer</th>\n",
       "      <th>ADUPiecePotential</th>\n",
       "      <th>annualTotal</th>\n",
       "      <th>PROGNOSISDAYS</th>\n",
       "      <th>CUSTSUBSEGMENTID</th>\n",
       "      <th>ESTIMATEDREVENUE</th>\n",
       "    </tr>\n",
       "  </thead>\n",
       "  <tbody>\n",
       "    <tr>\n",
       "      <th>Estimated Revenu</th>\n",
       "      <td>1.000000</td>\n",
       "      <td>0.022734</td>\n",
       "      <td>0.337520</td>\n",
       "      <td>0.014167</td>\n",
       "      <td>0.791738</td>\n",
       "      <td>0.905341</td>\n",
       "      <td>0.046642</td>\n",
       "      <td>NaN</td>\n",
       "      <td>0.097083</td>\n",
       "    </tr>\n",
       "    <tr>\n",
       "      <th>ProbabilityId</th>\n",
       "      <td>0.022734</td>\n",
       "      <td>1.000000</td>\n",
       "      <td>0.104635</td>\n",
       "      <td>0.033877</td>\n",
       "      <td>0.009785</td>\n",
       "      <td>0.035379</td>\n",
       "      <td>-0.214237</td>\n",
       "      <td>NaN</td>\n",
       "      <td>0.015885</td>\n",
       "    </tr>\n",
       "    <tr>\n",
       "      <th>ADULifeOfProject</th>\n",
       "      <td>0.337520</td>\n",
       "      <td>0.104635</td>\n",
       "      <td>1.000000</td>\n",
       "      <td>0.010295</td>\n",
       "      <td>0.015978</td>\n",
       "      <td>0.048437</td>\n",
       "      <td>-0.016122</td>\n",
       "      <td>NaN</td>\n",
       "      <td>0.019770</td>\n",
       "    </tr>\n",
       "    <tr>\n",
       "      <th>ADUEstimatedPriceEndCustomer</th>\n",
       "      <td>0.014167</td>\n",
       "      <td>0.033877</td>\n",
       "      <td>0.010295</td>\n",
       "      <td>1.000000</td>\n",
       "      <td>-0.002124</td>\n",
       "      <td>0.034353</td>\n",
       "      <td>0.006989</td>\n",
       "      <td>NaN</td>\n",
       "      <td>0.002694</td>\n",
       "    </tr>\n",
       "    <tr>\n",
       "      <th>ADUPiecePotential</th>\n",
       "      <td>0.791738</td>\n",
       "      <td>0.009785</td>\n",
       "      <td>0.015978</td>\n",
       "      <td>-0.002124</td>\n",
       "      <td>1.000000</td>\n",
       "      <td>0.770398</td>\n",
       "      <td>0.002664</td>\n",
       "      <td>NaN</td>\n",
       "      <td>0.027386</td>\n",
       "    </tr>\n",
       "    <tr>\n",
       "      <th>annualTotal</th>\n",
       "      <td>0.905341</td>\n",
       "      <td>0.035379</td>\n",
       "      <td>0.048437</td>\n",
       "      <td>0.034353</td>\n",
       "      <td>0.770398</td>\n",
       "      <td>1.000000</td>\n",
       "      <td>0.067328</td>\n",
       "      <td>NaN</td>\n",
       "      <td>0.106224</td>\n",
       "    </tr>\n",
       "    <tr>\n",
       "      <th>PROGNOSISDAYS</th>\n",
       "      <td>0.046642</td>\n",
       "      <td>-0.214237</td>\n",
       "      <td>-0.016122</td>\n",
       "      <td>0.006989</td>\n",
       "      <td>0.002664</td>\n",
       "      <td>0.067328</td>\n",
       "      <td>1.000000</td>\n",
       "      <td>NaN</td>\n",
       "      <td>0.033740</td>\n",
       "    </tr>\n",
       "    <tr>\n",
       "      <th>CUSTSUBSEGMENTID</th>\n",
       "      <td>NaN</td>\n",
       "      <td>NaN</td>\n",
       "      <td>NaN</td>\n",
       "      <td>NaN</td>\n",
       "      <td>NaN</td>\n",
       "      <td>NaN</td>\n",
       "      <td>NaN</td>\n",
       "      <td>NaN</td>\n",
       "      <td>NaN</td>\n",
       "    </tr>\n",
       "    <tr>\n",
       "      <th>ESTIMATEDREVENUE</th>\n",
       "      <td>0.097083</td>\n",
       "      <td>0.015885</td>\n",
       "      <td>0.019770</td>\n",
       "      <td>0.002694</td>\n",
       "      <td>0.027386</td>\n",
       "      <td>0.106224</td>\n",
       "      <td>0.033740</td>\n",
       "      <td>NaN</td>\n",
       "      <td>1.000000</td>\n",
       "    </tr>\n",
       "  </tbody>\n",
       "</table>\n",
       "</div>"
      ],
      "text/plain": [
       "                              Estimated Revenu  ProbabilityId  \\\n",
       "Estimated Revenu                      1.000000       0.022734   \n",
       "ProbabilityId                         0.022734       1.000000   \n",
       "ADULifeOfProject                      0.337520       0.104635   \n",
       "ADUEstimatedPriceEndCustomer          0.014167       0.033877   \n",
       "ADUPiecePotential                     0.791738       0.009785   \n",
       "annualTotal                           0.905341       0.035379   \n",
       "PROGNOSISDAYS                         0.046642      -0.214237   \n",
       "CUSTSUBSEGMENTID                           NaN            NaN   \n",
       "ESTIMATEDREVENUE                      0.097083       0.015885   \n",
       "\n",
       "                              ADULifeOfProject  ADUEstimatedPriceEndCustomer  \\\n",
       "Estimated Revenu                      0.337520                      0.014167   \n",
       "ProbabilityId                         0.104635                      0.033877   \n",
       "ADULifeOfProject                      1.000000                      0.010295   \n",
       "ADUEstimatedPriceEndCustomer          0.010295                      1.000000   \n",
       "ADUPiecePotential                     0.015978                     -0.002124   \n",
       "annualTotal                           0.048437                      0.034353   \n",
       "PROGNOSISDAYS                        -0.016122                      0.006989   \n",
       "CUSTSUBSEGMENTID                           NaN                           NaN   \n",
       "ESTIMATEDREVENUE                      0.019770                      0.002694   \n",
       "\n",
       "                              ADUPiecePotential  annualTotal  PROGNOSISDAYS  \\\n",
       "Estimated Revenu                       0.791738     0.905341       0.046642   \n",
       "ProbabilityId                          0.009785     0.035379      -0.214237   \n",
       "ADULifeOfProject                       0.015978     0.048437      -0.016122   \n",
       "ADUEstimatedPriceEndCustomer          -0.002124     0.034353       0.006989   \n",
       "ADUPiecePotential                      1.000000     0.770398       0.002664   \n",
       "annualTotal                            0.770398     1.000000       0.067328   \n",
       "PROGNOSISDAYS                          0.002664     0.067328       1.000000   \n",
       "CUSTSUBSEGMENTID                            NaN          NaN            NaN   \n",
       "ESTIMATEDREVENUE                       0.027386     0.106224       0.033740   \n",
       "\n",
       "                              CUSTSUBSEGMENTID  ESTIMATEDREVENUE  \n",
       "Estimated Revenu                           NaN          0.097083  \n",
       "ProbabilityId                              NaN          0.015885  \n",
       "ADULifeOfProject                           NaN          0.019770  \n",
       "ADUEstimatedPriceEndCustomer               NaN          0.002694  \n",
       "ADUPiecePotential                          NaN          0.027386  \n",
       "annualTotal                                NaN          0.106224  \n",
       "PROGNOSISDAYS                              NaN          0.033740  \n",
       "CUSTSUBSEGMENTID                           NaN               NaN  \n",
       "ESTIMATEDREVENUE                           NaN          1.000000  "
      ]
     },
     "execution_count": 300,
     "metadata": {},
     "output_type": "execute_result"
    }
   ],
   "source": [
    "data.corr()"
   ]
  },
  {
   "cell_type": "code",
   "execution_count": 320,
   "metadata": {},
   "outputs": [
    {
     "data": {
      "text/plain": [
       "<matplotlib.axes._subplots.AxesSubplot at 0x136c711ae48>"
      ]
     },
     "execution_count": 320,
     "metadata": {},
     "output_type": "execute_result"
    },
    {
     "data": {
      "image/png": "[encoded data removed]",
      "text/plain": [
       "<Figure size 432x288 with 2 Axes>"
      ]
     },
     "metadata": {
      "needs_background": "light"
     },
     "output_type": "display_data"
    }
   ],
   "source": [
    "sb.heatmap(data.corr(),annot=True)"
   ]
  },
  {
   "cell_type": "code",
   "execution_count": 319,
   "metadata": {},
   "outputs": [
    {
     "data": {
      "text/html": [
       "<div>\n",
       "<style scoped>\n",
       "    .dataframe tbody tr th:only-of-type {\n",
       "        vertical-align: middle;\n",
       "    }\n",
       "\n",
       "    .dataframe tbody tr th {\n",
       "        vertical-align: top;\n",
       "    }\n",
       "\n",
       "    .dataframe thead th {\n",
       "        text-align: right;\n",
       "    }\n",
       "</style>\n",
       "<table border=\"1\" class=\"dataframe\">\n",
       "  <thead>\n",
       "    <tr style=\"text-align: right;\">\n",
       "      <th></th>\n",
       "      <th>ProbabilityId</th>\n",
       "      <th>ADULifeOfProject</th>\n",
       "      <th>ADUEstimatedPriceEndCustomer</th>\n",
       "      <th>ADUPiecePotential</th>\n",
       "      <th>annualTotal</th>\n",
       "      <th>PROGNOSISDAYS</th>\n",
       "      <th>ESTIMATEDREVENUE</th>\n",
       "      <th>year</th>\n",
       "    </tr>\n",
       "  </thead>\n",
       "  <tbody>\n",
       "    <tr>\n",
       "      <th>count</th>\n",
       "      <td>9285.000000</td>\n",
       "      <td>9285.000000</td>\n",
       "      <td>9285.000000</td>\n",
       "      <td>9.285000e+03</td>\n",
       "      <td>9.285000e+03</td>\n",
       "      <td>7161.000000</td>\n",
       "      <td>9.728000e+03</td>\n",
       "      <td>9285.000000</td>\n",
       "    </tr>\n",
       "    <tr>\n",
       "      <th>mean</th>\n",
       "      <td>29.290253</td>\n",
       "      <td>2.558966</td>\n",
       "      <td>91.309144</td>\n",
       "      <td>9.685113e+03</td>\n",
       "      <td>4.137987e+04</td>\n",
       "      <td>189.792627</td>\n",
       "      <td>6.963055e+04</td>\n",
       "      <td>2016.850188</td>\n",
       "    </tr>\n",
       "    <tr>\n",
       "      <th>std</th>\n",
       "      <td>29.486984</td>\n",
       "      <td>11.037337</td>\n",
       "      <td>1360.451369</td>\n",
       "      <td>2.572681e+05</td>\n",
       "      <td>3.456949e+05</td>\n",
       "      <td>140.240126</td>\n",
       "      <td>1.253526e+06</td>\n",
       "      <td>1.842770</td>\n",
       "    </tr>\n",
       "    <tr>\n",
       "      <th>min</th>\n",
       "      <td>0.000000</td>\n",
       "      <td>0.000000</td>\n",
       "      <td>0.000000</td>\n",
       "      <td>0.000000e+00</td>\n",
       "      <td>0.000000e+00</td>\n",
       "      <td>15.000000</td>\n",
       "      <td>0.000000e+00</td>\n",
       "      <td>2012.000000</td>\n",
       "    </tr>\n",
       "    <tr>\n",
       "      <th>25%</th>\n",
       "      <td>10.000000</td>\n",
       "      <td>0.000000</td>\n",
       "      <td>0.000000</td>\n",
       "      <td>0.000000e+00</td>\n",
       "      <td>0.000000e+00</td>\n",
       "      <td>90.000000</td>\n",
       "      <td>1.500000e+03</td>\n",
       "      <td>2016.000000</td>\n",
       "    </tr>\n",
       "    <tr>\n",
       "      <th>50%</th>\n",
       "      <td>20.000000</td>\n",
       "      <td>0.000000</td>\n",
       "      <td>2.000000</td>\n",
       "      <td>1.000000e+02</td>\n",
       "      <td>0.000000e+00</td>\n",
       "      <td>180.000000</td>\n",
       "      <td>1.000000e+04</td>\n",
       "      <td>2017.000000</td>\n",
       "    </tr>\n",
       "    <tr>\n",
       "      <th>75%</th>\n",
       "      <td>50.000000</td>\n",
       "      <td>5.000000</td>\n",
       "      <td>15.000000</td>\n",
       "      <td>1.500000e+03</td>\n",
       "      <td>1.650000e+04</td>\n",
       "      <td>270.000000</td>\n",
       "      <td>4.600000e+04</td>\n",
       "      <td>2018.000000</td>\n",
       "    </tr>\n",
       "    <tr>\n",
       "      <th>max</th>\n",
       "      <td>100.000000</td>\n",
       "      <td>1000.000000</td>\n",
       "      <td>96000.000000</td>\n",
       "      <td>2.400000e+07</td>\n",
       "      <td>2.400000e+07</td>\n",
       "      <td>720.000000</td>\n",
       "      <td>1.200000e+08</td>\n",
       "      <td>2020.000000</td>\n",
       "    </tr>\n",
       "  </tbody>\n",
       "</table>\n",
       "</div>"
      ],
      "text/plain": [
       "       ProbabilityId  ADULifeOfProject  ADUEstimatedPriceEndCustomer  \\\n",
       "count    9285.000000       9285.000000                   9285.000000   \n",
       "mean       29.290253          2.558966                     91.309144   \n",
       "std        29.486984         11.037337                   1360.451369   \n",
       "min         0.000000          0.000000                      0.000000   \n",
       "25%        10.000000          0.000000                      0.000000   \n",
       "50%        20.000000          0.000000                      2.000000   \n",
       "75%        50.000000          5.000000                     15.000000   \n",
       "max       100.000000       1000.000000                  96000.000000   \n",
       "\n",
       "       ADUPiecePotential   annualTotal  PROGNOSISDAYS  ESTIMATEDREVENUE  \\\n",
       "count       9.285000e+03  9.285000e+03    7161.000000      9.728000e+03   \n",
       "mean        9.685113e+03  4.137987e+04     189.792627      6.963055e+04   \n",
       "std         2.572681e+05  3.456949e+05     140.240126      1.253526e+06   \n",
       "min         0.000000e+00  0.000000e+00      15.000000      0.000000e+00   \n",
       "25%         0.000000e+00  0.000000e+00      90.000000      1.500000e+03   \n",
       "50%         1.000000e+02  0.000000e+00     180.000000      1.000000e+04   \n",
       "75%         1.500000e+03  1.650000e+04     270.000000      4.600000e+04   \n",
       "max         2.400000e+07  2.400000e+07     720.000000      1.200000e+08   \n",
       "\n",
       "              year  \n",
       "count  9285.000000  \n",
       "mean   2016.850188  \n",
       "std       1.842770  \n",
       "min    2012.000000  \n",
       "25%    2016.000000  \n",
       "50%    2017.000000  \n",
       "75%    2018.000000  \n",
       "max    2020.000000  "
      ]
     },
     "execution_count": 319,
     "metadata": {},
     "output_type": "execute_result"
    }
   ],
   "source": [
    "data.describe()"
   ]
  },
  {
   "cell_type": "markdown",
   "metadata": {},
   "source": [
    "# <b> Data Cleaning / Enrichment"
   ]
  },
  {
   "cell_type": "code",
   "execution_count": 302,
   "metadata": {},
   "outputs": [],
   "source": [
    " #Drop useless Colomun\n",
    "data.drop(['CUSTSUBSEGMENTID', 'ADUCommentsRequest','SubsegmentId', 'ADUBasicPartNumber' , 'PrefixUK' , 'Estimated Revenu','BUSRELSUBSEGMENTID','Opportunity_Number'], axis=1, inplace=True)\n"
   ]
  },
  {
   "cell_type": "code",
   "execution_count": 303,
   "metadata": {},
   "outputs": [
    {
     "data": {
      "text/plain": [
       "0"
      ]
     },
     "execution_count": 303,
     "metadata": {},
     "output_type": "execute_result"
    }
   ],
   "source": [
    "#Fill in non values in ESTIMATED REVENUE column with the mean of the column\n",
    "data.loc[data.ESTIMATEDREVENUE.isna()==True,'ESTIMATEDREVENUE']=data.ESTIMATEDREVENUE.mean()\n",
    "data.ESTIMATEDREVENUE.isna().sum()"
   ]
  },
  {
   "cell_type": "code",
   "execution_count": 304,
   "metadata": {},
   "outputs": [
    {
     "data": {
      "text/plain": [
       "count       12222\n",
       "unique          5\n",
       "top       Unknown\n",
       "freq         8027\n",
       "Name: AduLevelOfComplexity, dtype: object"
      ]
     },
     "execution_count": 304,
     "metadata": {},
     "output_type": "execute_result"
    }
   ],
   "source": [
    "#Fill in non values in AduLevelOfComplexity column with the Unknown \n",
    "data['AduLevelOfComplexity'].fillna('Unknown', inplace=True)\n",
    "data['AduLevelOfComplexity'].describe()"
   ]
  },
  {
   "cell_type": "code",
   "execution_count": 305,
   "metadata": {},
   "outputs": [
    {
     "data": {
      "text/plain": [
       "count     12222\n",
       "unique     1475\n",
       "top       Other\n",
       "freq       9531\n",
       "Name: ADUEndCustomer, dtype: object"
      ]
     },
     "execution_count": 305,
     "metadata": {},
     "output_type": "execute_result"
    }
   ],
   "source": [
    "#Fill in non values in ADUEndCustomer column with  Other \n",
    "\n",
    "data['ADUEndCustomer'].fillna('Other', inplace=True)\n",
    "data['ADUEndCustomer'].describe()"
   ]
  },
  {
   "cell_type": "code",
   "execution_count": 309,
   "metadata": {},
   "outputs": [
    {
     "data": {
      "text/plain": [
       "count     9285\n",
       "unique       5\n",
       "top       Lost\n",
       "freq      3730\n",
       "Name: Status, dtype: object"
      ]
     },
     "execution_count": 309,
     "metadata": {},
     "output_type": "execute_result"
    }
   ],
   "source": [
    "# Removing rows that have been created before 2017 and are still active in the Status column \n",
    "data = data.drop(data[(data['Status'] == 'Active') & (df['Date_Created'] < '2017-01-01')].index)\n",
    "data.Status.describe()"
   ]
  },
  {
   "cell_type": "code",
   "execution_count": 310,
   "metadata": {},
   "outputs": [
    {
     "data": {
      "text/html": [
       "<div>\n",
       "<style scoped>\n",
       "    .dataframe tbody tr th:only-of-type {\n",
       "        vertical-align: middle;\n",
       "    }\n",
       "\n",
       "    .dataframe tbody tr th {\n",
       "        vertical-align: top;\n",
       "    }\n",
       "\n",
       "    .dataframe thead th {\n",
       "        text-align: right;\n",
       "    }\n",
       "</style>\n",
       "<table border=\"1\" class=\"dataframe\">\n",
       "  <thead>\n",
       "    <tr style=\"text-align: right;\">\n",
       "      <th></th>\n",
       "      <th>OpportunityId</th>\n",
       "      <th>Status</th>\n",
       "      <th>Name</th>\n",
       "      <th>Subject</th>\n",
       "      <th>Country</th>\n",
       "      <th>SalesUnitId</th>\n",
       "      <th>ADUCategory</th>\n",
       "      <th>Product_Family</th>\n",
       "      <th>Application</th>\n",
       "      <th>Owner</th>\n",
       "      <th>...</th>\n",
       "      <th>AduLevelOfComplexity</th>\n",
       "      <th>ADUStrategicCustomer</th>\n",
       "      <th>AduPriorityMarket</th>\n",
       "      <th>Date_Created</th>\n",
       "      <th>OPENEDDATE</th>\n",
       "      <th>PROGNOSISDAYS</th>\n",
       "      <th>DATAAREAID</th>\n",
       "      <th>BUSRELSEGMENT</th>\n",
       "      <th>CUSTSEGMENTID</th>\n",
       "      <th>ESTIMATEDREVENUE</th>\n",
       "    </tr>\n",
       "  </thead>\n",
       "  <tbody>\n",
       "    <tr>\n",
       "      <th>0</th>\n",
       "      <td>OP-000081</td>\n",
       "      <td>Lost</td>\n",
       "      <td>CROUZET AUTOMATISMES SAS</td>\n",
       "      <td>Crouzet 12147-6X778-09, 12167-6X778-09</td>\n",
       "      <td>France</td>\n",
       "      <td>SUD_EST</td>\n",
       "      <td>1-SWITCH</td>\n",
       "      <td>1-SWITCH</td>\n",
       "      <td>.</td>\n",
       "      <td>Sales Person 1</td>\n",
       "      <td>...</td>\n",
       "      <td>Level 3 - Heavy product modification</td>\n",
       "      <td>No</td>\n",
       "      <td>Non Strategic</td>\n",
       "      <td>2012-05-23</td>\n",
       "      <td>1900-01-01</td>\n",
       "      <td>180.0</td>\n",
       "      <td>fr02</td>\n",
       "      <td>NaN</td>\n",
       "      <td>Vehicles</td>\n",
       "      <td>3144.0</td>\n",
       "    </tr>\n",
       "    <tr>\n",
       "      <th>1</th>\n",
       "      <td>OP-000121</td>\n",
       "      <td>Lost</td>\n",
       "      <td>SYSTEMES ATTUM</td>\n",
       "      <td>FR - Balance pesage peinture Membrane</td>\n",
       "      <td>France</td>\n",
       "      <td>CENTRE_IDF_1/2_EST</td>\n",
       "      <td>1-SWITCH</td>\n",
       "      <td>1-SWITCH</td>\n",
       "      <td>.</td>\n",
       "      <td>Sales Person 2</td>\n",
       "      <td>...</td>\n",
       "      <td>Unknown</td>\n",
       "      <td>No</td>\n",
       "      <td>Non Strategic</td>\n",
       "      <td>2012-09-03</td>\n",
       "      <td>1900-01-01</td>\n",
       "      <td>180.0</td>\n",
       "      <td>fr02</td>\n",
       "      <td>NaN</td>\n",
       "      <td>Inst. Cons. Comp</td>\n",
       "      <td>117500.0</td>\n",
       "    </tr>\n",
       "    <tr>\n",
       "      <th>2</th>\n",
       "      <td>OP-000122</td>\n",
       "      <td>Won</td>\n",
       "      <td>SCHNEIDER ELECTRIC</td>\n",
       "      <td>MEC // TELEGESTION RESEAU ELECTRIQUE</td>\n",
       "      <td>France</td>\n",
       "      <td>SUD_EST</td>\n",
       "      <td>Unkown</td>\n",
       "      <td>NaN</td>\n",
       "      <td>.</td>\n",
       "      <td>Sales Person 1</td>\n",
       "      <td>...</td>\n",
       "      <td>Unknown</td>\n",
       "      <td>No</td>\n",
       "      <td>Non Strategic</td>\n",
       "      <td>2012-09-06</td>\n",
       "      <td>1900-01-01</td>\n",
       "      <td>180.0</td>\n",
       "      <td>fr02</td>\n",
       "      <td>NaN</td>\n",
       "      <td>Ind. Automation</td>\n",
       "      <td>12000.0</td>\n",
       "    </tr>\n",
       "    <tr>\n",
       "      <th>3</th>\n",
       "      <td>OP-000123</td>\n",
       "      <td>Lost</td>\n",
       "      <td>OMEGA FUSIBILI S.P.A.</td>\n",
       "      <td>IT - POWER ONE - 3500</td>\n",
       "      <td>Italie</td>\n",
       "      <td>EXPORT3</td>\n",
       "      <td>1-SWITCH</td>\n",
       "      <td>1-SWITCH</td>\n",
       "      <td>.</td>\n",
       "      <td>Sales Person 3</td>\n",
       "      <td>...</td>\n",
       "      <td>Unknown</td>\n",
       "      <td>No</td>\n",
       "      <td>Non Strategic</td>\n",
       "      <td>2012-09-06</td>\n",
       "      <td>1900-01-01</td>\n",
       "      <td>180.0</td>\n",
       "      <td>fr02</td>\n",
       "      <td>NaN</td>\n",
       "      <td>Indirect Sales</td>\n",
       "      <td>8160.0</td>\n",
       "    </tr>\n",
       "    <tr>\n",
       "      <th>4</th>\n",
       "      <td>OP-000124</td>\n",
       "      <td>Won</td>\n",
       "      <td>ERMEC SL</td>\n",
       "      <td>SP - NAD/SHAD- FP</td>\n",
       "      <td>Espagne</td>\n",
       "      <td>EXPORT1</td>\n",
       "      <td>Unkown</td>\n",
       "      <td>NaN</td>\n",
       "      <td>.</td>\n",
       "      <td>Sales Person 4</td>\n",
       "      <td>...</td>\n",
       "      <td>Unknown</td>\n",
       "      <td>No</td>\n",
       "      <td>Non Strategic</td>\n",
       "      <td>2012-09-06</td>\n",
       "      <td>1900-01-01</td>\n",
       "      <td>180.0</td>\n",
       "      <td>fr02</td>\n",
       "      <td>NaN</td>\n",
       "      <td>Indirect Sales</td>\n",
       "      <td>120461.0</td>\n",
       "    </tr>\n",
       "  </tbody>\n",
       "</table>\n",
       "<p>5 rows × 34 columns</p>\n",
       "</div>"
      ],
      "text/plain": [
       "  OpportunityId Status                      Name  \\\n",
       "0     OP-000081   Lost  CROUZET AUTOMATISMES SAS   \n",
       "1     OP-000121   Lost            SYSTEMES ATTUM   \n",
       "2     OP-000122    Won        SCHNEIDER ELECTRIC   \n",
       "3     OP-000123   Lost     OMEGA FUSIBILI S.P.A.   \n",
       "4     OP-000124    Won                  ERMEC SL   \n",
       "\n",
       "                                  Subject  Country         SalesUnitId  \\\n",
       "0  Crouzet 12147-6X778-09, 12167-6X778-09   France             SUD_EST   \n",
       "1   FR - Balance pesage peinture Membrane   France  CENTRE_IDF_1/2_EST   \n",
       "2    MEC // TELEGESTION RESEAU ELECTRIQUE   France             SUD_EST   \n",
       "3                   IT - POWER ONE - 3500   Italie             EXPORT3   \n",
       "4                       SP - NAD/SHAD- FP  Espagne             EXPORT1   \n",
       "\n",
       "  ADUCategory Product_Family Application           Owner  ...  \\\n",
       "0    1-SWITCH       1-SWITCH           .  Sales Person 1  ...   \n",
       "1    1-SWITCH       1-SWITCH           .  Sales Person 2  ...   \n",
       "2      Unkown            NaN           .  Sales Person 1  ...   \n",
       "3    1-SWITCH       1-SWITCH           .  Sales Person 3  ...   \n",
       "4      Unkown            NaN           .  Sales Person 4  ...   \n",
       "\n",
       "                   AduLevelOfComplexity ADUStrategicCustomer  \\\n",
       "0  Level 3 - Heavy product modification                   No   \n",
       "1                               Unknown                   No   \n",
       "2                               Unknown                   No   \n",
       "3                               Unknown                   No   \n",
       "4                               Unknown                   No   \n",
       "\n",
       "   AduPriorityMarket Date_Created OPENEDDATE PROGNOSISDAYS DATAAREAID  \\\n",
       "0      Non Strategic   2012-05-23 1900-01-01         180.0       fr02   \n",
       "1      Non Strategic   2012-09-03 1900-01-01         180.0       fr02   \n",
       "2      Non Strategic   2012-09-06 1900-01-01         180.0       fr02   \n",
       "3      Non Strategic   2012-09-06 1900-01-01         180.0       fr02   \n",
       "4      Non Strategic   2012-09-06 1900-01-01         180.0       fr02   \n",
       "\n",
       "  BUSRELSEGMENT     CUSTSEGMENTID  ESTIMATEDREVENUE  \n",
       "0           NaN          Vehicles            3144.0  \n",
       "1           NaN  Inst. Cons. Comp          117500.0  \n",
       "2           NaN   Ind. Automation           12000.0  \n",
       "3           NaN    Indirect Sales            8160.0  \n",
       "4           NaN    Indirect Sales          120461.0  \n",
       "\n",
       "[5 rows x 34 columns]"
      ]
     },
     "execution_count": 310,
     "metadata": {},
     "output_type": "execute_result"
    }
   ],
   "source": [
    "#Filling in non values in category column with unknown\n",
    "data['ADUCategory'].fillna('Unkown', inplace=True)\n",
    "data.head()"
   ]
  },
  {
   "cell_type": "code",
   "execution_count": 311,
   "metadata": {},
   "outputs": [
    {
     "data": {
      "text/plain": [
       "0        2012.0\n",
       "1        2012.0\n",
       "2        2012.0\n",
       "3        2012.0\n",
       "4        2012.0\n",
       "          ...  \n",
       "12217    2020.0\n",
       "12218    2020.0\n",
       "12219    2020.0\n",
       "12220    2020.0\n",
       "12221    2020.0\n",
       "Name: year, Length: 9728, dtype: float64"
      ]
     },
     "execution_count": 311,
     "metadata": {},
     "output_type": "execute_result"
    }
   ],
   "source": [
    "#Here we wreated the year column for data vis further use\n",
    "data['year'] = pd.DatetimeIndex(data['Date_Created']).year\n",
    "data['year']"
   ]
  },
  {
   "cell_type": "markdown",
   "metadata": {},
   "source": [
    "Here, we will export the data in order to use it in Dataiku and tableau prep for more data  and enrichment (30 % of the cleaning is already done in Python , We decided to move to other tools in order to gain time )\n"
   ]
  },
  {
   "cell_type": "code",
   "execution_count": 314,
   "metadata": {},
   "outputs": [],
   "source": [
    "#Export data\n",
    "Abracadabra = data.to_csv(r'C:\\Users\\33760\\Desktop\\salut\\Abracadabra.csv', index = False)\n"
   ]
  },
  {
   "cell_type": "markdown",
   "metadata": {},
   "source": [
    "After finishing the cleaning and enrichment with Dataiku and Tableau Prep, We will read our cleaned and prepared data "
   ]
  },
  {
   "cell_type": "code",
   "execution_count": 315,
   "metadata": {},
   "outputs": [
    {
     "data": {
      "text/html": [
       "<div>\n",
       "<style scoped>\n",
       "    .dataframe tbody tr th:only-of-type {\n",
       "        vertical-align: middle;\n",
       "    }\n",
       "\n",
       "    .dataframe tbody tr th {\n",
       "        vertical-align: top;\n",
       "    }\n",
       "\n",
       "    .dataframe thead th {\n",
       "        text-align: right;\n",
       "    }\n",
       "</style>\n",
       "<table border=\"1\" class=\"dataframe\">\n",
       "  <thead>\n",
       "    <tr style=\"text-align: right;\">\n",
       "      <th></th>\n",
       "      <th>OpportunityId</th>\n",
       "      <th>Status</th>\n",
       "      <th>Name</th>\n",
       "      <th>Subject</th>\n",
       "      <th>Country</th>\n",
       "      <th>SalesUnitId</th>\n",
       "      <th>ADUCategory</th>\n",
       "      <th>Product_Family</th>\n",
       "      <th>Application</th>\n",
       "      <th>Owner</th>\n",
       "      <th>...</th>\n",
       "      <th>ADUStrategicCustomer</th>\n",
       "      <th>AduPriorityMarket</th>\n",
       "      <th>Date_Created</th>\n",
       "      <th>OPENEDDATE</th>\n",
       "      <th>Opportunity_Number</th>\n",
       "      <th>PROGNOSISDAYS</th>\n",
       "      <th>DATAAREAID</th>\n",
       "      <th>ESTIMATEDREVENUE</th>\n",
       "      <th>year</th>\n",
       "      <th>CPI Duration</th>\n",
       "    </tr>\n",
       "  </thead>\n",
       "  <tbody>\n",
       "    <tr>\n",
       "      <th>0</th>\n",
       "      <td>OP-000081</td>\n",
       "      <td>Lost</td>\n",
       "      <td>CROUZET AUTOMATISMES SAS</td>\n",
       "      <td>Crouzet 12147-6X778-09, 12167-6X778-09</td>\n",
       "      <td>France</td>\n",
       "      <td>SUD_EST</td>\n",
       "      <td>1-SWITCH</td>\n",
       "      <td>1-SWITCH</td>\n",
       "      <td>generic</td>\n",
       "      <td>Sales Person 1</td>\n",
       "      <td>...</td>\n",
       "      <td>No</td>\n",
       "      <td>Non Strategic</td>\n",
       "      <td>2012-05-23</td>\n",
       "      <td>1900-01-01</td>\n",
       "      <td>OP-000081</td>\n",
       "      <td>180.0</td>\n",
       "      <td>fr02</td>\n",
       "      <td>3144.0</td>\n",
       "      <td>2012.0</td>\n",
       "      <td>8.0</td>\n",
       "    </tr>\n",
       "    <tr>\n",
       "      <th>1</th>\n",
       "      <td>OP-000121</td>\n",
       "      <td>Lost</td>\n",
       "      <td>SYSTEMES ATTUM</td>\n",
       "      <td>FR - Balance pesage peinture Membrane</td>\n",
       "      <td>France</td>\n",
       "      <td>CENTRE_IDF_1/2_EST</td>\n",
       "      <td>1-SWITCH</td>\n",
       "      <td>1-SWITCH</td>\n",
       "      <td>generic</td>\n",
       "      <td>Sales Person 2</td>\n",
       "      <td>...</td>\n",
       "      <td>No</td>\n",
       "      <td>Non Strategic</td>\n",
       "      <td>2012-09-03</td>\n",
       "      <td>1900-01-01</td>\n",
       "      <td>OP-000121</td>\n",
       "      <td>180.0</td>\n",
       "      <td>fr02</td>\n",
       "      <td>117500.0</td>\n",
       "      <td>2012.0</td>\n",
       "      <td>8.0</td>\n",
       "    </tr>\n",
       "    <tr>\n",
       "      <th>2</th>\n",
       "      <td>OP-000122</td>\n",
       "      <td>Won</td>\n",
       "      <td>SCHNEIDER ELECTRIC</td>\n",
       "      <td>MEC // TELEGESTION RESEAU ELECTRIQUE</td>\n",
       "      <td>France</td>\n",
       "      <td>SUD_EST</td>\n",
       "      <td>Unkown</td>\n",
       "      <td>Others</td>\n",
       "      <td>generic</td>\n",
       "      <td>Sales Person 1</td>\n",
       "      <td>...</td>\n",
       "      <td>No</td>\n",
       "      <td>Non Strategic</td>\n",
       "      <td>2012-09-06</td>\n",
       "      <td>1900-01-01</td>\n",
       "      <td>OP-000122</td>\n",
       "      <td>180.0</td>\n",
       "      <td>fr02</td>\n",
       "      <td>12000.0</td>\n",
       "      <td>2012.0</td>\n",
       "      <td>8.0</td>\n",
       "    </tr>\n",
       "    <tr>\n",
       "      <th>3</th>\n",
       "      <td>OP-000123</td>\n",
       "      <td>Lost</td>\n",
       "      <td>OMEGA FUSIBILI S.P.A.</td>\n",
       "      <td>IT - POWER ONE - 3500</td>\n",
       "      <td>Italy</td>\n",
       "      <td>EXPORT3</td>\n",
       "      <td>1-SWITCH</td>\n",
       "      <td>1-SWITCH</td>\n",
       "      <td>generic</td>\n",
       "      <td>Sales Person 3</td>\n",
       "      <td>...</td>\n",
       "      <td>No</td>\n",
       "      <td>Non Strategic</td>\n",
       "      <td>2012-09-06</td>\n",
       "      <td>1900-01-01</td>\n",
       "      <td>OP-000123</td>\n",
       "      <td>180.0</td>\n",
       "      <td>fr02</td>\n",
       "      <td>8160.0</td>\n",
       "      <td>2012.0</td>\n",
       "      <td>8.0</td>\n",
       "    </tr>\n",
       "    <tr>\n",
       "      <th>4</th>\n",
       "      <td>OP-000124</td>\n",
       "      <td>Won</td>\n",
       "      <td>ERMEC SL</td>\n",
       "      <td>SP - NAD/SHAD- FP</td>\n",
       "      <td>Spain</td>\n",
       "      <td>EXPORT1</td>\n",
       "      <td>Unkown</td>\n",
       "      <td>Others</td>\n",
       "      <td>generic</td>\n",
       "      <td>Sales Person 4</td>\n",
       "      <td>...</td>\n",
       "      <td>No</td>\n",
       "      <td>Non Strategic</td>\n",
       "      <td>2012-09-06</td>\n",
       "      <td>1900-01-01</td>\n",
       "      <td>OP-000124</td>\n",
       "      <td>180.0</td>\n",
       "      <td>fr02</td>\n",
       "      <td>120461.0</td>\n",
       "      <td>2012.0</td>\n",
       "      <td>8.0</td>\n",
       "    </tr>\n",
       "  </tbody>\n",
       "</table>\n",
       "<p>5 rows × 33 columns</p>\n",
       "</div>"
      ],
      "text/plain": [
       "  OpportunityId Status                      Name  \\\n",
       "0     OP-000081   Lost  CROUZET AUTOMATISMES SAS   \n",
       "1     OP-000121   Lost            SYSTEMES ATTUM   \n",
       "2     OP-000122    Won        SCHNEIDER ELECTRIC   \n",
       "3     OP-000123   Lost     OMEGA FUSIBILI S.P.A.   \n",
       "4     OP-000124    Won                  ERMEC SL   \n",
       "\n",
       "                                  Subject Country         SalesUnitId  \\\n",
       "0  Crouzet 12147-6X778-09, 12167-6X778-09  France             SUD_EST   \n",
       "1   FR - Balance pesage peinture Membrane  France  CENTRE_IDF_1/2_EST   \n",
       "2    MEC // TELEGESTION RESEAU ELECTRIQUE  France             SUD_EST   \n",
       "3                   IT - POWER ONE - 3500   Italy             EXPORT3   \n",
       "4                       SP - NAD/SHAD- FP   Spain             EXPORT1   \n",
       "\n",
       "  ADUCategory Product_Family Application           Owner  ...  \\\n",
       "0    1-SWITCH       1-SWITCH     generic  Sales Person 1  ...   \n",
       "1    1-SWITCH       1-SWITCH     generic  Sales Person 2  ...   \n",
       "2      Unkown         Others     generic  Sales Person 1  ...   \n",
       "3    1-SWITCH       1-SWITCH     generic  Sales Person 3  ...   \n",
       "4      Unkown         Others     generic  Sales Person 4  ...   \n",
       "\n",
       "  ADUStrategicCustomer AduPriorityMarket  Date_Created  OPENEDDATE  \\\n",
       "0                   No     Non Strategic    2012-05-23  1900-01-01   \n",
       "1                   No     Non Strategic    2012-09-03  1900-01-01   \n",
       "2                   No     Non Strategic    2012-09-06  1900-01-01   \n",
       "3                   No     Non Strategic    2012-09-06  1900-01-01   \n",
       "4                   No     Non Strategic    2012-09-06  1900-01-01   \n",
       "\n",
       "  Opportunity_Number PROGNOSISDAYS DATAAREAID  ESTIMATEDREVENUE    year  \\\n",
       "0          OP-000081         180.0       fr02            3144.0  2012.0   \n",
       "1          OP-000121         180.0       fr02          117500.0  2012.0   \n",
       "2          OP-000122         180.0       fr02           12000.0  2012.0   \n",
       "3          OP-000123         180.0       fr02            8160.0  2012.0   \n",
       "4          OP-000124         180.0       fr02          120461.0  2012.0   \n",
       "\n",
       "   CPI Duration  \n",
       "0           8.0  \n",
       "1           8.0  \n",
       "2           8.0  \n",
       "3           8.0  \n",
       "4           8.0  \n",
       "\n",
       "[5 rows x 33 columns]"
      ]
     },
     "execution_count": 315,
     "metadata": {},
     "output_type": "execute_result"
    }
   ],
   "source": [
    "Data_cleaned = pd.read_csv('Abracadabraa_prepared_cleaned (2).csv', sep=',')\n",
    "Data_cleaned.head()\n"
   ]
  },
  {
   "cell_type": "code",
   "execution_count": 317,
   "metadata": {},
   "outputs": [
    {
     "data": {
      "text/plain": [
       "count       9285\n",
       "unique        47\n",
       "top       France\n",
       "freq        3338\n",
       "Name: country, dtype: object"
      ]
     },
     "execution_count": 317,
     "metadata": {},
     "output_type": "execute_result"
    }
   ],
   "source": [
    "#Here , we just did some data cleaning in Country column\n",
    "data['country'] = data.apply(lambda row : \n",
    "                            'France' if row['SalesUnitId'] == 'OUEST'\n",
    "                            else row['Country'] , axis=1)\n",
    "\n",
    "data['country'] = data.apply(lambda row : \n",
    "                            'France' if row['SalesUnitId'] == 'SUD_EST'\n",
    "                            else row['Country'] , axis=1)\n",
    "\n",
    "data['country'] = data.apply(lambda row : \n",
    "                            'France' if row['SalesUnitId'] == 'NORD_1/2_EST'\n",
    "                            else row['Country'] , \n",
    "                                     axis=1)\n",
    "data['country'] = data.apply(lambda row : \n",
    "                            'France' if row['SalesUnitId'] == 'NORD_1/2_EST'\n",
    "                            else row['Country'] , \n",
    "                                     axis=1)\n",
    "data['country'] = data.apply(lambda row : \n",
    "                            'France' if row['SalesUnitId'] == 'CENTRE_IDF_1/2_EST'\n",
    "                            else row['Country'] , \n",
    "                                     axis=1)\n",
    "data['country'] = data.apply(lambda row : \n",
    "                            'France' if row['SalesUnitId'] == 'SUD_OUEST'\n",
    "                            else row['Country'] , \n",
    "                                     axis=1)\n",
    "\n",
    "data.country.describe()"
   ]
  },
  {
   "cell_type": "markdown",
   "metadata": {},
   "source": [
    "# DATA VISUALISATION"
   ]
  },
  {
   "cell_type": "markdown",
   "metadata": {},
   "source": [
    "# Status"
   ]
  },
  {
   "cell_type": "code",
   "execution_count": 326,
   "metadata": {},
   "outputs": [
    {
     "data": {
      "image/png": "[encoded data removed]",
      "text/plain": [
       "<Figure size 432x288 with 1 Axes>"
      ]
     },
     "metadata": {
      "needs_background": "light"
     },
     "output_type": "display_data"
    }
   ],
   "source": [
    "sb.countplot(x='Status' , data=data , palette='hls')\n",
    "plt.show()"
   ]
  },
  {
   "cell_type": "markdown",
   "metadata": {},
   "source": [
    "THe number of lost Processes is the highest one ( double of Won ) than it comes the Active ones \n"
   ]
  },
  {
   "cell_type": "code",
   "execution_count": 325,
   "metadata": {},
   "outputs": [
    {
     "data": {
      "text/html": [
       "<div>\n",
       "<style scoped>\n",
       "    .dataframe tbody tr th:only-of-type {\n",
       "        vertical-align: middle;\n",
       "    }\n",
       "\n",
       "    .dataframe tbody tr th {\n",
       "        vertical-align: top;\n",
       "    }\n",
       "\n",
       "    .dataframe thead th {\n",
       "        text-align: right;\n",
       "    }\n",
       "</style>\n",
       "<table border=\"1\" class=\"dataframe\">\n",
       "  <thead>\n",
       "    <tr style=\"text-align: right;\">\n",
       "      <th></th>\n",
       "      <th>OpportunityId</th>\n",
       "      <th>Status</th>\n",
       "      <th>Name</th>\n",
       "      <th>Subject</th>\n",
       "      <th>Country</th>\n",
       "      <th>SalesUnitId</th>\n",
       "      <th>ADUCategory</th>\n",
       "      <th>Product_Family</th>\n",
       "      <th>Application</th>\n",
       "      <th>Owner</th>\n",
       "      <th>...</th>\n",
       "      <th>ADUStrategicCustomer</th>\n",
       "      <th>AduPriorityMarket</th>\n",
       "      <th>Date_Created</th>\n",
       "      <th>OPENEDDATE</th>\n",
       "      <th>Opportunity_Number</th>\n",
       "      <th>PROGNOSISDAYS</th>\n",
       "      <th>DATAAREAID</th>\n",
       "      <th>ESTIMATEDREVENUE</th>\n",
       "      <th>year</th>\n",
       "      <th>CPI Duration</th>\n",
       "    </tr>\n",
       "  </thead>\n",
       "  <tbody>\n",
       "    <tr>\n",
       "      <th>3034</th>\n",
       "      <td>OP-004301</td>\n",
       "      <td>Lost</td>\n",
       "      <td>APEM GMBH</td>\n",
       "      <td>Würth: Suite OP4220 - AV031003C240T+Cable leon...</td>\n",
       "      <td>Germany</td>\n",
       "      <td>SUBSIDIARY</td>\n",
       "      <td>1-SWITCH</td>\n",
       "      <td>1-SWITCH</td>\n",
       "      <td>generic</td>\n",
       "      <td>Sales Person 14</td>\n",
       "      <td>...</td>\n",
       "      <td>No</td>\n",
       "      <td>Standard</td>\n",
       "      <td>2017-01-02</td>\n",
       "      <td>2017-01-02</td>\n",
       "      <td>OP-004301</td>\n",
       "      <td>360.0</td>\n",
       "      <td>fr02</td>\n",
       "      <td>25000.0</td>\n",
       "      <td>2017.0</td>\n",
       "      <td>3.0</td>\n",
       "    </tr>\n",
       "    <tr>\n",
       "      <th>3035</th>\n",
       "      <td>OP-004303</td>\n",
       "      <td>Lost</td>\n",
       "      <td>APEM COMPONENTS LTD</td>\n",
       "      <td>A01ES-DM sans top</td>\n",
       "      <td>United Kingdom</td>\n",
       "      <td>SUBSIDIARY</td>\n",
       "      <td>1-SWITCH</td>\n",
       "      <td>1-SWITCH</td>\n",
       "      <td>generic</td>\n",
       "      <td>Sales Person 15</td>\n",
       "      <td>...</td>\n",
       "      <td>No</td>\n",
       "      <td>Standard</td>\n",
       "      <td>2017-01-03</td>\n",
       "      <td>2017-01-03</td>\n",
       "      <td>OP-004303</td>\n",
       "      <td>360.0</td>\n",
       "      <td>fr02</td>\n",
       "      <td>6000.0</td>\n",
       "      <td>2017.0</td>\n",
       "      <td>3.0</td>\n",
       "    </tr>\n",
       "    <tr>\n",
       "      <th>3036</th>\n",
       "      <td>OP-004304</td>\n",
       "      <td>Won</td>\n",
       "      <td>MATROT EQUIPEMENT</td>\n",
       "      <td>FP avec marquage ISO 7000-1389</td>\n",
       "      <td>France</td>\n",
       "      <td>NORD_1/2_EST</td>\n",
       "      <td>1-SWITCH</td>\n",
       "      <td>1-SWITCH</td>\n",
       "      <td>generic</td>\n",
       "      <td>Sales Person 7</td>\n",
       "      <td>...</td>\n",
       "      <td>No</td>\n",
       "      <td>Non Strategic</td>\n",
       "      <td>2017-01-03</td>\n",
       "      <td>2017-01-03</td>\n",
       "      <td>OP-004304</td>\n",
       "      <td>180.0</td>\n",
       "      <td>fr02</td>\n",
       "      <td>2000.0</td>\n",
       "      <td>2017.0</td>\n",
       "      <td>3.0</td>\n",
       "    </tr>\n",
       "  </tbody>\n",
       "</table>\n",
       "<p>3 rows × 33 columns</p>\n",
       "</div>"
      ],
      "text/plain": [
       "     OpportunityId Status                 Name  \\\n",
       "3034     OP-004301   Lost            APEM GMBH   \n",
       "3035     OP-004303   Lost  APEM COMPONENTS LTD   \n",
       "3036     OP-004304    Won    MATROT EQUIPEMENT   \n",
       "\n",
       "                                                Subject         Country  \\\n",
       "3034  Würth: Suite OP4220 - AV031003C240T+Cable leon...         Germany   \n",
       "3035                                  A01ES-DM sans top  United Kingdom   \n",
       "3036                     FP avec marquage ISO 7000-1389          France   \n",
       "\n",
       "       SalesUnitId ADUCategory Product_Family Application            Owner  \\\n",
       "3034    SUBSIDIARY    1-SWITCH       1-SWITCH     generic  Sales Person 14   \n",
       "3035    SUBSIDIARY    1-SWITCH       1-SWITCH     generic  Sales Person 15   \n",
       "3036  NORD_1/2_EST    1-SWITCH       1-SWITCH     generic   Sales Person 7   \n",
       "\n",
       "      ... ADUStrategicCustomer AduPriorityMarket  Date_Created  OPENEDDATE  \\\n",
       "3034  ...                   No          Standard    2017-01-02  2017-01-02   \n",
       "3035  ...                   No          Standard    2017-01-03  2017-01-03   \n",
       "3036  ...                   No     Non Strategic    2017-01-03  2017-01-03   \n",
       "\n",
       "     Opportunity_Number PROGNOSISDAYS DATAAREAID  ESTIMATEDREVENUE    year  \\\n",
       "3034          OP-004301         360.0       fr02           25000.0  2017.0   \n",
       "3035          OP-004303         360.0       fr02            6000.0  2017.0   \n",
       "3036          OP-004304         180.0       fr02            2000.0  2017.0   \n",
       "\n",
       "      CPI Duration  \n",
       "3034           3.0  \n",
       "3035           3.0  \n",
       "3036           3.0  \n",
       "\n",
       "[3 rows x 33 columns]"
      ]
     },
     "execution_count": 325,
     "metadata": {},
     "output_type": "execute_result"
    }
   ],
   "source": [
    "#Create df4 filtered by countries and year (countries are the most important countries for APEM and created  after 2017) FOR FURTHER DATA VIS USE\n",
    "df3 = Data_cleaned[ (Data_cleaned.Country =='Belgium')|  (Data_cleaned.Country =='France') | (Data_cleaned.Country =='United Kingdom')   |      (Data_cleaned.Country =='Germany')        |     (Data_cleaned.Country ==' Italy')        |    (Data_cleaned.Country =='Belgium')             |    (Data_cleaned.Country =='Netherlands')   |(Data_cleaned.Country =='Spain')]\n",
    "df4=df3[(df3.year >= 2017) ]\n",
    "df4.head(3)"
   ]
  },
  {
   "cell_type": "code",
   "execution_count": 324,
   "metadata": {},
   "outputs": [
    {
     "data": {
      "image/png": "[encoded data removed]",
      "text/plain": [
       "<Figure size 432x288 with 1 Axes>"
      ]
     },
     "metadata": {
      "needs_background": "light"
     },
     "output_type": "display_data"
    }
   ],
   "source": [
    "df3.Country.hist()\n",
    "plt.title('Histogram of Country frequency')\n",
    "plt.xlabel('country')\n",
    "plt.ylabel('Frequency')\n",
    "plt.savefig('hist_country_freq')"
   ]
  },
  {
   "cell_type": "markdown",
   "metadata": {},
   "source": [
    "France has the highest number of Opportunities ( almost the third of the dataset ) than it comes U Kinkdom and Netherland "
   ]
  },
  {
   "cell_type": "code",
   "execution_count": 327,
   "metadata": {},
   "outputs": [
    {
     "data": {
      "text/plain": [
       "Text(0, 0.5, 'Country')"
      ]
     },
     "execution_count": 327,
     "metadata": {},
     "output_type": "execute_result"
    },
    {
     "data": {
      "image/png": "[encoded data removed]",
      "text/plain": [
       "<Figure size 432x288 with 1 Axes>"
      ]
     },
     "metadata": {
      "needs_background": "light"
     },
     "output_type": "display_data"
    }
   ],
   "source": [
    "pd.crosstab(df3.Country,df3.ADUStrategicCustomer).plot(kind='bar')\n",
    "plt.title('Strategic cutomers per country')\n",
    "plt.xlabel('Number of strategic customers')\n",
    "plt.ylabel('Country')"
   ]
  },
  {
   "cell_type": "markdown",
   "metadata": {},
   "source": [
    "France has the highest number of non strategic customers and strategic ones  ( more than 2500 non strategic and about 500 strategic ) than it comes United Kingdom with about 2300 non strategic "
   ]
  },
  {
   "cell_type": "markdown",
   "metadata": {},
   "source": [
    "<B> Number of opportunities per Status per  category"
   ]
  },
  {
   "cell_type": "code",
   "execution_count": 328,
   "metadata": {},
   "outputs": [
    {
     "data": {
      "image/png": "[encoded data removed]",
      "text/plain": [
       "<Figure size 1080x576 with 1 Axes>"
      ]
     },
     "metadata": {
      "needs_background": "light"
     },
     "output_type": "display_data"
    }
   ],
   "source": [
    "plt.figure( figsize = (15, 8) )\n",
    "chart=sb.countplot(data=Data_cleaned, x='Product_Family', hue='Status')\n",
    "chart.set_title('Number of opportunities per Status per category')\n",
    "chart.set_xlabel('Product family')\n",
    "chart.set_ylabel('number of opportunities')\n",
    "plt.show()"
   ]
  },
  {
   "cell_type": "markdown",
   "metadata": {},
   "source": [
    "The highest frequency for lost  is for the Lost Switch opportunities with more than 1800 , and for the won Status SWITCH also has the highest number of already gained opportunities "
   ]
  },
  {
   "cell_type": "markdown",
   "metadata": {},
   "source": [
    "<B> Estimated revenue per  category ( for the 4 main categories ) "
   ]
  },
  {
   "cell_type": "code",
   "execution_count": 331,
   "metadata": {},
   "outputs": [
    {
     "data": {
      "text/html": [
       "<div>\n",
       "<style scoped>\n",
       "    .dataframe tbody tr th:only-of-type {\n",
       "        vertical-align: middle;\n",
       "    }\n",
       "\n",
       "    .dataframe tbody tr th {\n",
       "        vertical-align: top;\n",
       "    }\n",
       "\n",
       "    .dataframe thead th {\n",
       "        text-align: right;\n",
       "    }\n",
       "</style>\n",
       "<table border=\"1\" class=\"dataframe\">\n",
       "  <thead>\n",
       "    <tr style=\"text-align: right;\">\n",
       "      <th></th>\n",
       "      <th>OpportunityId</th>\n",
       "      <th>Status</th>\n",
       "      <th>Name</th>\n",
       "      <th>Subject</th>\n",
       "      <th>Country</th>\n",
       "      <th>SalesUnitId</th>\n",
       "      <th>ADUCategory</th>\n",
       "      <th>Product_Family</th>\n",
       "      <th>Application</th>\n",
       "      <th>Owner</th>\n",
       "      <th>...</th>\n",
       "      <th>ADUStrategicCustomer</th>\n",
       "      <th>AduPriorityMarket</th>\n",
       "      <th>Date_Created</th>\n",
       "      <th>OPENEDDATE</th>\n",
       "      <th>Opportunity_Number</th>\n",
       "      <th>PROGNOSISDAYS</th>\n",
       "      <th>DATAAREAID</th>\n",
       "      <th>ESTIMATEDREVENUE</th>\n",
       "      <th>year</th>\n",
       "      <th>CPI Duration</th>\n",
       "    </tr>\n",
       "  </thead>\n",
       "  <tbody>\n",
       "    <tr>\n",
       "      <th>0</th>\n",
       "      <td>OP-000081</td>\n",
       "      <td>Lost</td>\n",
       "      <td>CROUZET AUTOMATISMES SAS</td>\n",
       "      <td>Crouzet 12147-6X778-09, 12167-6X778-09</td>\n",
       "      <td>France</td>\n",
       "      <td>SUD_EST</td>\n",
       "      <td>1-SWITCH</td>\n",
       "      <td>1-SWITCH</td>\n",
       "      <td>generic</td>\n",
       "      <td>Sales Person 1</td>\n",
       "      <td>...</td>\n",
       "      <td>No</td>\n",
       "      <td>Non Strategic</td>\n",
       "      <td>2012-05-23</td>\n",
       "      <td>1900-01-01</td>\n",
       "      <td>OP-000081</td>\n",
       "      <td>180.0</td>\n",
       "      <td>fr02</td>\n",
       "      <td>3144.0</td>\n",
       "      <td>2012.0</td>\n",
       "      <td>8.0</td>\n",
       "    </tr>\n",
       "    <tr>\n",
       "      <th>1</th>\n",
       "      <td>OP-000121</td>\n",
       "      <td>Lost</td>\n",
       "      <td>SYSTEMES ATTUM</td>\n",
       "      <td>FR - Balance pesage peinture Membrane</td>\n",
       "      <td>France</td>\n",
       "      <td>CENTRE_IDF_1/2_EST</td>\n",
       "      <td>1-SWITCH</td>\n",
       "      <td>1-SWITCH</td>\n",
       "      <td>generic</td>\n",
       "      <td>Sales Person 2</td>\n",
       "      <td>...</td>\n",
       "      <td>No</td>\n",
       "      <td>Non Strategic</td>\n",
       "      <td>2012-09-03</td>\n",
       "      <td>1900-01-01</td>\n",
       "      <td>OP-000121</td>\n",
       "      <td>180.0</td>\n",
       "      <td>fr02</td>\n",
       "      <td>117500.0</td>\n",
       "      <td>2012.0</td>\n",
       "      <td>8.0</td>\n",
       "    </tr>\n",
       "    <tr>\n",
       "      <th>3</th>\n",
       "      <td>OP-000123</td>\n",
       "      <td>Lost</td>\n",
       "      <td>OMEGA FUSIBILI S.P.A.</td>\n",
       "      <td>IT - POWER ONE - 3500</td>\n",
       "      <td>Italy</td>\n",
       "      <td>EXPORT3</td>\n",
       "      <td>1-SWITCH</td>\n",
       "      <td>1-SWITCH</td>\n",
       "      <td>generic</td>\n",
       "      <td>Sales Person 3</td>\n",
       "      <td>...</td>\n",
       "      <td>No</td>\n",
       "      <td>Non Strategic</td>\n",
       "      <td>2012-09-06</td>\n",
       "      <td>1900-01-01</td>\n",
       "      <td>OP-000123</td>\n",
       "      <td>180.0</td>\n",
       "      <td>fr02</td>\n",
       "      <td>8160.0</td>\n",
       "      <td>2012.0</td>\n",
       "      <td>8.0</td>\n",
       "    </tr>\n",
       "    <tr>\n",
       "      <th>16</th>\n",
       "      <td>OP-000138</td>\n",
       "      <td>Lost</td>\n",
       "      <td>ENIKA CZ S.R.O.</td>\n",
       "      <td>CZ - Official Elec - AS39S0200</td>\n",
       "      <td>Czechia</td>\n",
       "      <td>EXPORT2</td>\n",
       "      <td>1-SWITCH</td>\n",
       "      <td>1-SWITCH</td>\n",
       "      <td>generic</td>\n",
       "      <td>Sales Person 5</td>\n",
       "      <td>...</td>\n",
       "      <td>No</td>\n",
       "      <td>Non Strategic</td>\n",
       "      <td>2012-12-12</td>\n",
       "      <td>1900-01-01</td>\n",
       "      <td>OP-000138</td>\n",
       "      <td>180.0</td>\n",
       "      <td>fr02</td>\n",
       "      <td>8880.0</td>\n",
       "      <td>2012.0</td>\n",
       "      <td>8.0</td>\n",
       "    </tr>\n",
       "    <tr>\n",
       "      <th>22</th>\n",
       "      <td>OP-000144</td>\n",
       "      <td>Lost</td>\n",
       "      <td>REDISLOGAR S.A.</td>\n",
       "      <td>SP - CAF - AV9SLD2781002</td>\n",
       "      <td>Spain</td>\n",
       "      <td>EXPORT1</td>\n",
       "      <td>1-SWITCH</td>\n",
       "      <td>1-SWITCH</td>\n",
       "      <td>generic</td>\n",
       "      <td>Sales Person 4</td>\n",
       "      <td>...</td>\n",
       "      <td>No</td>\n",
       "      <td>Non Strategic</td>\n",
       "      <td>2012-12-12</td>\n",
       "      <td>1900-01-01</td>\n",
       "      <td>OP-000144</td>\n",
       "      <td>180.0</td>\n",
       "      <td>fr02</td>\n",
       "      <td>8715.0</td>\n",
       "      <td>2012.0</td>\n",
       "      <td>8.0</td>\n",
       "    </tr>\n",
       "  </tbody>\n",
       "</table>\n",
       "<p>5 rows × 33 columns</p>\n",
       "</div>"
      ],
      "text/plain": [
       "   OpportunityId Status                      Name  \\\n",
       "0      OP-000081   Lost  CROUZET AUTOMATISMES SAS   \n",
       "1      OP-000121   Lost            SYSTEMES ATTUM   \n",
       "3      OP-000123   Lost     OMEGA FUSIBILI S.P.A.   \n",
       "16     OP-000138   Lost           ENIKA CZ S.R.O.   \n",
       "22     OP-000144   Lost           REDISLOGAR S.A.   \n",
       "\n",
       "                                   Subject  Country         SalesUnitId  \\\n",
       "0   Crouzet 12147-6X778-09, 12167-6X778-09   France             SUD_EST   \n",
       "1    FR - Balance pesage peinture Membrane   France  CENTRE_IDF_1/2_EST   \n",
       "3                    IT - POWER ONE - 3500    Italy             EXPORT3   \n",
       "16          CZ - Official Elec - AS39S0200  Czechia             EXPORT2   \n",
       "22                SP - CAF - AV9SLD2781002    Spain             EXPORT1   \n",
       "\n",
       "   ADUCategory Product_Family Application           Owner  ...  \\\n",
       "0     1-SWITCH       1-SWITCH     generic  Sales Person 1  ...   \n",
       "1     1-SWITCH       1-SWITCH     generic  Sales Person 2  ...   \n",
       "3     1-SWITCH       1-SWITCH     generic  Sales Person 3  ...   \n",
       "16    1-SWITCH       1-SWITCH     generic  Sales Person 5  ...   \n",
       "22    1-SWITCH       1-SWITCH     generic  Sales Person 4  ...   \n",
       "\n",
       "   ADUStrategicCustomer AduPriorityMarket  Date_Created  OPENEDDATE  \\\n",
       "0                    No     Non Strategic    2012-05-23  1900-01-01   \n",
       "1                    No     Non Strategic    2012-09-03  1900-01-01   \n",
       "3                    No     Non Strategic    2012-09-06  1900-01-01   \n",
       "16                   No     Non Strategic    2012-12-12  1900-01-01   \n",
       "22                   No     Non Strategic    2012-12-12  1900-01-01   \n",
       "\n",
       "   Opportunity_Number PROGNOSISDAYS DATAAREAID  ESTIMATEDREVENUE    year  \\\n",
       "0           OP-000081         180.0       fr02            3144.0  2012.0   \n",
       "1           OP-000121         180.0       fr02          117500.0  2012.0   \n",
       "3           OP-000123         180.0       fr02            8160.0  2012.0   \n",
       "16          OP-000138         180.0       fr02            8880.0  2012.0   \n",
       "22          OP-000144         180.0       fr02            8715.0  2012.0   \n",
       "\n",
       "    CPI Duration  \n",
       "0            8.0  \n",
       "1            8.0  \n",
       "3            8.0  \n",
       "16           8.0  \n",
       "22           8.0  \n",
       "\n",
       "[5 rows x 33 columns]"
      ]
     },
     "execution_count": 331,
     "metadata": {},
     "output_type": "execute_result"
    }
   ],
   "source": [
    "# Filtering our data to take just the most important categories for APEM \n",
    "df2 = Data_cleaned[ (Data_cleaned.ADUCategory == '1-SWITCH')  | (Data_cleaned.ADUCategory == '1-KEYBOARD') |(Data_cleaned.ADUCategory == '1-Joystick')  |(Data_cleaned.ADUCategory == '1-Indicator') ]\n",
    "df2.head()"
   ]
  },
  {
   "cell_type": "code",
   "execution_count": 332,
   "metadata": {},
   "outputs": [
    {
     "data": {
      "image/png": "[encoded data removed]",
      "text/plain": [
       "<Figure size 432x288 with 1 Axes>"
      ]
     },
     "metadata": {
      "needs_background": "light"
     },
     "output_type": "display_data"
    }
   ],
   "source": [
    "x =sb.barplot(data=df2, x='ADUCategory', y='ESTIMATEDREVENUE', ci=None)\n"
   ]
  },
  {
   "cell_type": "markdown",
   "metadata": {},
   "source": [
    "For the revenue , SWITCH , Joystick and Keybiard have almost the same revenue with a total almost 120 000$"
   ]
  },
  {
   "cell_type": "markdown",
   "metadata": {},
   "source": [
    "# Evolution of Estimated revenue per year in the most important countries for APEM"
   ]
  },
  {
   "cell_type": "code",
   "execution_count": 333,
   "metadata": {},
   "outputs": [
    {
     "data": {
      "image/png": "[encoded data removed]",
      "text/plain": [
       "<Figure size 864x288 with 1 Axes>"
      ]
     },
     "metadata": {
      "needs_background": "light"
     },
     "output_type": "display_data"
    }
   ],
   "source": [
    "\n",
    "# ploting a graph of ESTIMATEDREVENUE evolution  per year per country.\n",
    "Sales_per_region_peryear = df4.groupby(['year','Country']).ESTIMATEDREVENUE.sum().reset_index()\n",
    "plt.figure( figsize = (12,4 ))\n",
    "chart=sb.lineplot(data=df3, x='year', hue='Country', y='ESTIMATEDREVENUE', ci=None)\n",
    "chart.set_title('Evolution of Estimated revenue per year')\n",
    "chart.set_xlabel('years')\n",
    "chart.set_ylabel('Estimated Revenue')\n",
    "plt.show()\n"
   ]
  },
  {
   "cell_type": "markdown",
   "metadata": {},
   "source": [
    "<b> As we can see , all the estimated revenues are stable ( about 80000 $ in all countries ) except for Germany, the estimated revenue  was stable till 2018 to multiply more than 10 times from 2018 to 2019 , Than it decreased from 2019 ( divided by malmost 3 ) In addition, Uni Kingdom function has the same shape ( increased in 2017 than decrease it 2018 ) \n",
    "==) In 2018 , APEM surely focused  on the German market much more than other markets that's why we have the decrease of majority of revenue in other countries. However , Fransh Market for APEM is improving since 2019 ( Second best EStimated revenue is in France in 2020 ) "
   ]
  },
  {
   "cell_type": "markdown",
   "metadata": {},
   "source": [
    "# Prognosis days of each Priority Market per country"
   ]
  },
  {
   "cell_type": "code",
   "execution_count": 334,
   "metadata": {},
   "outputs": [
    {
     "data": {
      "image/png": "[encoded data removed]",
      "text/plain": [
       "<Figure size 1080x576 with 1 Axes>"
      ]
     },
     "metadata": {
      "needs_background": "light"
     },
     "output_type": "display_data"
    }
   ],
   "source": [
    "plt.figure( figsize = (15, 8) )\n",
    "chart=sb.barplot(data=df4, x='Country', hue='AduPriorityMarket', y='PROGNOSISDAYS', ci=None)\n",
    "chart.set_title('Prognosis days of each Priority Market per country ')\n",
    "chart.set_xlabel('Country')\n",
    "chart.set_ylabel('Prognosis days')\n",
    "plt.show()"
   ]
  },
  {
   "cell_type": "markdown",
   "metadata": {},
   "source": [
    "In Spain for example which represents one of the most important market for APEM , the highest prognosis days corresponds to the standard market.\n",
    "In France, the highest prognosis days corresponds Focus market\n"
   ]
  },
  {
   "cell_type": "markdown",
   "metadata": {},
   "source": [
    "# Evolution of probability sucess per prognosis days"
   ]
  },
  {
   "cell_type": "code",
   "execution_count": 346,
   "metadata": {},
   "outputs": [
    {
     "data": {
      "image/png": "[encoded data removed]",
      "text/plain": [
       "<Figure size 720x432 with 1 Axes>"
      ]
     },
     "metadata": {
      "needs_background": "light"
     },
     "output_type": "display_data"
    }
   ],
   "source": [
    "plt.figure( figsize = (10, 6))\n",
    "chart=sb.lineplot(data=df4, x='CPI Duration', y='ProbabilityId')\n",
    "chart.set_title('Evolution of probability sucess per days')\n",
    "chart.set_xlabel('CPI Duration')\n",
    "chart.set_ylabel('probability of sucess')\n",
    "plt.show()"
   ]
  },
  {
   "cell_type": "markdown",
   "metadata": {},
   "source": [
    "As we can, when the CPI increases from 1 to 3 years the probabilty sucess decreases ( important decrease of prob success for the CPI that are older than 2 years )"
   ]
  },
  {
   "cell_type": "markdown",
   "metadata": {},
   "source": [
    "# <b> SEGMENTID Analysis "
   ]
  },
  {
   "cell_type": "markdown",
   "metadata": {},
   "source": [
    "<b> Number of Opportunities per segment"
   ]
  },
  {
   "cell_type": "code",
   "execution_count": 347,
   "metadata": {},
   "outputs": [
    {
     "name": "stdout",
     "output_type": "stream",
     "text": [
      "              SegmentId  count\n",
      "0                   AgM    509\n",
      "1            Automotive    191\n",
      "2         Communication     79\n",
      "3                   CtR     30\n",
      "4                   DgE    529\n",
      "5                Divers     15\n",
      "6       Ind. Automation    300\n",
      "7        Indirect Sales    889\n",
      "8      Inst. Cons. Comp    345\n",
      "9                   MaH    406\n",
      "10              Medical    155\n",
      "11            Other DgE     20\n",
      "12  Other Electr. Appli    790\n",
      "13       Other Mil.Aero     84\n",
      "14   Other applications    480\n",
      "15             Security    220\n",
      "16               Unkown   1662\n",
      "17             Vehicles    440\n"
     ]
    }
   ],
   "source": [
    "NumberofOpp_per_segment = df3.groupby(['SegmentId']).OpportunityId.count().reset_index()\n",
    "NumberofOpp_per_segment.rename(columns={'OpportunityId':'count'}, inplace=True)\n",
    "print(NumberofOpp_per_segment)"
   ]
  },
  {
   "cell_type": "markdown",
   "metadata": {},
   "source": [
    "The highest number of opportunities is for indirect sales segment with 889 than it comes the electric application"
   ]
  },
  {
   "cell_type": "code",
   "execution_count": 348,
   "metadata": {},
   "outputs": [
    {
     "data": {
      "text/plain": [
       "Text(0, 0.5, 'Number of opportunities')"
      ]
     },
     "execution_count": 348,
     "metadata": {},
     "output_type": "execute_result"
    },
    {
     "data": {
      "image/png": "[encoded data removed]",
      "text/plain": [
       "<Figure size 1440x720 with 1 Axes>"
      ]
     },
     "metadata": {
      "needs_background": "light"
     },
     "output_type": "display_data"
    }
   ],
   "source": [
    "plt.figure( figsize = (20, 10) )\n",
    "chart=sb.barplot(data=NumberofOpp_per_segment, x='SegmentId', y='count', ci=None)\n",
    "chart.set_title('Number of opportunities per segment ')\n",
    "chart.set_xlabel('Sehment')\n",
    "chart.set_ylabel('Number of opportunities')"
   ]
  },
  {
   "cell_type": "markdown",
   "metadata": {},
   "source": [
    "<B> Mean_revenue_and_mean_prob_of_sucess_PER_SEGMENT"
   ]
  },
  {
   "cell_type": "code",
   "execution_count": 220,
   "metadata": {},
   "outputs": [
    {
     "data": {
      "text/html": [
       "<div>\n",
       "<style scoped>\n",
       "    .dataframe tbody tr th:only-of-type {\n",
       "        vertical-align: middle;\n",
       "    }\n",
       "\n",
       "    .dataframe tbody tr th {\n",
       "        vertical-align: top;\n",
       "    }\n",
       "\n",
       "    .dataframe thead th {\n",
       "        text-align: right;\n",
       "    }\n",
       "</style>\n",
       "<table border=\"1\" class=\"dataframe\">\n",
       "  <thead>\n",
       "    <tr style=\"text-align: right;\">\n",
       "      <th></th>\n",
       "      <th>SegmentId</th>\n",
       "      <th>mean_prob_sucess</th>\n",
       "      <th>mean_Revenue</th>\n",
       "    </tr>\n",
       "  </thead>\n",
       "  <tbody>\n",
       "    <tr>\n",
       "      <th>0</th>\n",
       "      <td>AgM</td>\n",
       "      <td>32.720971</td>\n",
       "      <td>84575.386482</td>\n",
       "    </tr>\n",
       "    <tr>\n",
       "      <th>1</th>\n",
       "      <td>Automotive</td>\n",
       "      <td>34.786730</td>\n",
       "      <td>234531.900474</td>\n",
       "    </tr>\n",
       "    <tr>\n",
       "      <th>2</th>\n",
       "      <td>Communication</td>\n",
       "      <td>30.232558</td>\n",
       "      <td>22466.244186</td>\n",
       "    </tr>\n",
       "    <tr>\n",
       "      <th>3</th>\n",
       "      <td>CtR</td>\n",
       "      <td>63.953488</td>\n",
       "      <td>173231.395349</td>\n",
       "    </tr>\n",
       "    <tr>\n",
       "      <th>4</th>\n",
       "      <td>DgE</td>\n",
       "      <td>32.582026</td>\n",
       "      <td>82580.233951</td>\n",
       "    </tr>\n",
       "    <tr>\n",
       "      <th>5</th>\n",
       "      <td>Divers</td>\n",
       "      <td>19.333333</td>\n",
       "      <td>14024.666667</td>\n",
       "    </tr>\n",
       "    <tr>\n",
       "      <th>6</th>\n",
       "      <td>Ind. Automation</td>\n",
       "      <td>34.559524</td>\n",
       "      <td>52783.152381</td>\n",
       "    </tr>\n",
       "    <tr>\n",
       "      <th>7</th>\n",
       "      <td>Indirect Sales</td>\n",
       "      <td>29.185220</td>\n",
       "      <td>68028.673520</td>\n",
       "    </tr>\n",
       "    <tr>\n",
       "      <th>8</th>\n",
       "      <td>Inst. Cons. Comp</td>\n",
       "      <td>35.907821</td>\n",
       "      <td>35094.988827</td>\n",
       "    </tr>\n",
       "    <tr>\n",
       "      <th>9</th>\n",
       "      <td>MaH</td>\n",
       "      <td>39.922631</td>\n",
       "      <td>78936.632495</td>\n",
       "    </tr>\n",
       "    <tr>\n",
       "      <th>10</th>\n",
       "      <td>Medical</td>\n",
       "      <td>36.250000</td>\n",
       "      <td>41037.613636</td>\n",
       "    </tr>\n",
       "    <tr>\n",
       "      <th>11</th>\n",
       "      <td>Other DgE</td>\n",
       "      <td>43.809524</td>\n",
       "      <td>32533.333333</td>\n",
       "    </tr>\n",
       "    <tr>\n",
       "      <th>12</th>\n",
       "      <td>Other Electr. Appli</td>\n",
       "      <td>22.823741</td>\n",
       "      <td>23897.935252</td>\n",
       "    </tr>\n",
       "    <tr>\n",
       "      <th>13</th>\n",
       "      <td>Other Mil.Aero</td>\n",
       "      <td>40.000000</td>\n",
       "      <td>45722.579545</td>\n",
       "    </tr>\n",
       "    <tr>\n",
       "      <th>14</th>\n",
       "      <td>Other applications</td>\n",
       "      <td>35.537634</td>\n",
       "      <td>57421.915771</td>\n",
       "    </tr>\n",
       "    <tr>\n",
       "      <th>15</th>\n",
       "      <td>Security</td>\n",
       "      <td>31.155462</td>\n",
       "      <td>45563.756303</td>\n",
       "    </tr>\n",
       "    <tr>\n",
       "      <th>16</th>\n",
       "      <td>Unkown</td>\n",
       "      <td>19.438492</td>\n",
       "      <td>30649.993022</td>\n",
       "    </tr>\n",
       "    <tr>\n",
       "      <th>17</th>\n",
       "      <td>Vehicles</td>\n",
       "      <td>38.995943</td>\n",
       "      <td>299775.709939</td>\n",
       "    </tr>\n",
       "  </tbody>\n",
       "</table>\n",
       "</div>"
      ],
      "text/plain": [
       "              SegmentId  mean_prob_sucess   mean_Revenue\n",
       "0                   AgM         32.720971   84575.386482\n",
       "1            Automotive         34.786730  234531.900474\n",
       "2         Communication         30.232558   22466.244186\n",
       "3                   CtR         63.953488  173231.395349\n",
       "4                   DgE         32.582026   82580.233951\n",
       "5                Divers         19.333333   14024.666667\n",
       "6       Ind. Automation         34.559524   52783.152381\n",
       "7        Indirect Sales         29.185220   68028.673520\n",
       "8      Inst. Cons. Comp         35.907821   35094.988827\n",
       "9                   MaH         39.922631   78936.632495\n",
       "10              Medical         36.250000   41037.613636\n",
       "11            Other DgE         43.809524   32533.333333\n",
       "12  Other Electr. Appli         22.823741   23897.935252\n",
       "13       Other Mil.Aero         40.000000   45722.579545\n",
       "14   Other applications         35.537634   57421.915771\n",
       "15             Security         31.155462   45563.756303\n",
       "16               Unkown         19.438492   30649.993022\n",
       "17             Vehicles         38.995943  299775.709939"
      ]
     },
     "execution_count": 220,
     "metadata": {},
     "output_type": "execute_result"
    }
   ],
   "source": [
    "mean_revenue_and_mean_prob_of_sucess_PER_SEGMENT= Data_cleaned.groupby('SegmentId').agg(mean_prob_sucess=('ProbabilityId', 'mean'), mean_Revenue=('ESTIMATEDREVENUE', 'mean')).reset_index()\n",
    "mean_sum_shoe_type"
   ]
  },
  {
   "cell_type": "markdown",
   "metadata": {},
   "source": [
    "Here we have the mean prob of sucess of each segment with the mean estimated revenue ( CtR has the highest mean of prob sucess )"
   ]
  },
  {
   "cell_type": "markdown",
   "metadata": {},
   "source": [
    "<b> The goal of the next part is to predict the Status of our processes using Machine learning algorithms like Logitic regression and Gradient Boost "
   ]
  },
  {
   "cell_type": "markdown",
   "metadata": {},
   "source": [
    "\n",
    "\n",
    "\n",
    "\n",
    "# Prediction of Status using KNN"
   ]
  },
  {
   "cell_type": "code",
   "execution_count": 351,
   "metadata": {},
   "outputs": [],
   "source": [
    "# Here , I imported train_test_split in order to split my dataset to train and test for my ML algorithms\n",
    "from sklearn.model_selection import train_test_split\n",
    "X_train, X_test, y_train, y_test = train_test_split(X, y, test_size=0.15)\n"
   ]
  },
  {
   "cell_type": "code",
   "execution_count": 352,
   "metadata": {},
   "outputs": [],
   "source": [
    "# Fit our model \n",
    "from sklearn.preprocessing import StandardScaler\n",
    "scaler = StandardScaler()\n",
    "scaler.fit(X_train)\n",
    "X_train = scaler.transform(X_train)\n",
    "X_test = scaler.transform(X_test)"
   ]
  },
  {
   "cell_type": "code",
   "execution_count": 354,
   "metadata": {},
   "outputs": [
    {
     "data": {
      "text/plain": [
       "KNeighborsClassifier(algorithm='auto', leaf_size=30, metric='minkowski',\n",
       "                     metric_params=None, n_jobs=None, n_neighbors=7, p=2,\n",
       "                     weights='uniform')"
      ]
     },
     "execution_count": 354,
     "metadata": {},
     "output_type": "execute_result"
    }
   ],
   "source": [
    "# Aplly the Kneighbors for our Train data\n",
    "from sklearn.neighbors import KNeighborsClassifier\n",
    "classifier = KNeighborsClassifier(n_neighbors=7)\n",
    "classifier.fit(X_train, y_train)\n"
   ]
  },
  {
   "cell_type": "code",
   "execution_count": 355,
   "metadata": {},
   "outputs": [],
   "source": [
    "# Predict our Test data\n",
    "y_pred = classifier.predict(X_test)\n"
   ]
  },
  {
   "cell_type": "code",
   "execution_count": 356,
   "metadata": {},
   "outputs": [
    {
     "name": "stdout",
     "output_type": "stream",
     "text": [
      "[[730   1 136   0  37   0]\n",
      " [  2   0   5   0   1   0]\n",
      " [114   3 383   0  57   0]\n",
      " [  5   0   3   0   2   0]\n",
      " [ 85   1 130   0  78   0]\n",
      " [  0   0   0   0   0  61]]\n",
      "              precision    recall  f1-score   support\n",
      "\n",
      "           0       0.78      0.81      0.79       904\n",
      "           1       0.00      0.00      0.00         8\n",
      "           2       0.58      0.69      0.63       557\n",
      "           3       0.00      0.00      0.00        10\n",
      "           4       0.45      0.27      0.33       294\n",
      "           5       1.00      1.00      1.00        61\n",
      "\n",
      "    accuracy                           0.68      1834\n",
      "   macro avg       0.47      0.46      0.46      1834\n",
      "weighted avg       0.67      0.68      0.67      1834\n",
      "\n"
     ]
    }
   ],
   "source": [
    "from sklearn.metrics import classification_report, confusion_matrix\n",
    "print(confusion_matrix(y_test, y_pred))\n",
    "print(classification_report(y_test, y_pred))\n"
   ]
  },
  {
   "cell_type": "markdown",
   "metadata": {},
   "source": [
    "Accuracy is 0.68 Not bad "
   ]
  },
  {
   "cell_type": "markdown",
   "metadata": {},
   "source": [
    "# Prediction of Status using Logistic regression and Gradient Boost"
   ]
  },
  {
   "cell_type": "code",
   "execution_count": 368,
   "metadata": {},
   "outputs": [
    {
     "data": {
      "text/plain": [
       "AdaBoostClassifier(algorithm='SAMME.R', base_estimator=None, learning_rate=1.0,\n",
       "                   n_estimators=50, random_state=None)"
      ]
     },
     "execution_count": 368,
     "metadata": {},
     "output_type": "execute_result"
    }
   ],
   "source": [
    "from sklearn.ensemble import AdaBoostClassifier\n",
    "adamodel= AdaBoostClassifier()\n",
    "adamodel.fit(X_train,y_train)"
   ]
  },
  {
   "cell_type": "code",
   "execution_count": 359,
   "metadata": {},
   "outputs": [
    {
     "data": {
      "text/plain": [
       "GradientBoostingClassifier(ccp_alpha=0.0, criterion='friedman_mse', init=None,\n",
       "                           learning_rate=0.1, loss='deviance', max_depth=3,\n",
       "                           max_features=None, max_leaf_nodes=None,\n",
       "                           min_impurity_decrease=0.0, min_impurity_split=None,\n",
       "                           min_samples_leaf=1, min_samples_split=2,\n",
       "                           min_weight_fraction_leaf=0.0, n_estimators=100,\n",
       "                           n_iter_no_change=None, presort='deprecated',\n",
       "                           random_state=None, subsample=1.0, tol=0.0001,\n",
       "                           validation_fraction=0.1, verbose=0,\n",
       "                           warm_start=False)"
      ]
     },
     "execution_count": 359,
     "metadata": {},
     "output_type": "execute_result"
    }
   ],
   "source": [
    "from sklearn.ensemble import GradientBoostingClassifier\n",
    "gradmodel=GradientBoostingClassifier()\n",
    "gradmodel.fit(X_train,y_train)\n"
   ]
  },
  {
   "cell_type": "code",
   "execution_count": 361,
   "metadata": {},
   "outputs": [],
   "source": [
    "from sklearn.metrics import roc_auc_score\n"
   ]
  },
  {
   "cell_type": "code",
   "execution_count": 372,
   "metadata": {},
   "outputs": [],
   "source": [
    "models ={'Logistic Regression':logmodel,'gradient boost':gradmodel,'Kneighbors':classifier }\n"
   ]
  },
  {
   "cell_type": "code",
   "execution_count": 373,
   "metadata": {},
   "outputs": [],
   "source": [
    "evaluation=pd.DataFrame(columns=['accuracy_score'],index=models.keys())\n",
    "def testingfunc(X_test,y_test,models,lscore='accuracy_score',auc='AUC-ROC_score'):\n",
    "    for label,model in models.items():\n",
    "        score=str(round(model.score(X_test,y_test),2))\n",
    "        evaluation.loc[label,lscore]=score\n",
    "    return evaluation\n"
   ]
  },
  {
   "cell_type": "code",
   "execution_count": 374,
   "metadata": {},
   "outputs": [
    {
     "data": {
      "text/html": [
       "<div>\n",
       "<style scoped>\n",
       "    .dataframe tbody tr th:only-of-type {\n",
       "        vertical-align: middle;\n",
       "    }\n",
       "\n",
       "    .dataframe tbody tr th {\n",
       "        vertical-align: top;\n",
       "    }\n",
       "\n",
       "    .dataframe thead th {\n",
       "        text-align: right;\n",
       "    }\n",
       "</style>\n",
       "<table border=\"1\" class=\"dataframe\">\n",
       "  <thead>\n",
       "    <tr style=\"text-align: right;\">\n",
       "      <th></th>\n",
       "      <th>accuracy_score</th>\n",
       "    </tr>\n",
       "  </thead>\n",
       "  <tbody>\n",
       "    <tr>\n",
       "      <th>Logistic Regression</th>\n",
       "      <td>0.66</td>\n",
       "    </tr>\n",
       "    <tr>\n",
       "      <th>gradient boost</th>\n",
       "      <td>0.73</td>\n",
       "    </tr>\n",
       "    <tr>\n",
       "      <th>Kneighbors</th>\n",
       "      <td>0.68</td>\n",
       "    </tr>\n",
       "  </tbody>\n",
       "</table>\n",
       "</div>"
      ],
      "text/plain": [
       "                    accuracy_score\n",
       "Logistic Regression           0.66\n",
       "gradient boost                0.73\n",
       "Kneighbors                    0.68"
      ]
     },
     "execution_count": 374,
     "metadata": {},
     "output_type": "execute_result"
    }
   ],
   "source": [
    "testingfunc(X_test,y_test,models=models,lscore='accuracy_score',auc='AUC-ROC_score')\n"
   ]
  },
  {
   "cell_type": "markdown",
   "metadata": {},
   "source": [
    "# Testing our MOdel "
   ]
  },
  {
   "cell_type": "code",
   "execution_count": null,
   "metadata": {},
   "outputs": [],
   "source": []
  },
  {
   "cell_type": "code",
   "execution_count": null,
   "metadata": {},
   "outputs": [],
   "source": []
  },
  {
   "cell_type": "code",
   "execution_count": null,
   "metadata": {},
   "outputs": [],
   "source": []
  },
  {
   "cell_type": "code",
   "execution_count": null,
   "metadata": {},
   "outputs": [],
   "source": []
  }
 ],
 "metadata": {
  "kernelspec": {
   "display_name": "Python 3",
   "language": "python",
   "name": "python3"
  },
  "language_info": {
   "codemirror_mode": {
    "name": "ipython",
    "version": 3
   },
   "file_extension": ".py",
   "mimetype": "text/x-python",
   "name": "python",
   "nbconvert_exporter": "python",
   "pygments_lexer": "ipython3",
   "version": "3.7.6"
  }
 },
 "nbformat": 4,
 "nbformat_minor": 4
}
